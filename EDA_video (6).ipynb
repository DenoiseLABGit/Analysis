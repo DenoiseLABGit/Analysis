{
 "cells": [
  {
   "cell_type": "code",
   "execution_count": 1,
   "id": "4efb4eae-07ee-496a-9455-d4e90c6223b3",
   "metadata": {},
   "outputs": [],
   "source": [
    "import cv2\n",
    "import glob\n",
    "import gradio as gr\n",
    "import numpy as np\n",
    "import os\n",
    "import pandas as pd\n",
    "import torch\n",
    "\n",
    "from collections import Counter\n",
    "from PIL import Image\n",
    "\n",
    "from pymilvus import MilvusClient\n",
    "\n",
    "from torch.utils.data import Dataset, DataLoader\n",
    "from torchvision import transforms\n",
    "from torchvision.datasets import VisionDataset\n",
    "from torchvision.models import resnet50, ResNet50_Weights\n",
    "from videohash import VideoHash"
   ]
  },
  {
   "cell_type": "code",
   "execution_count": null,
   "id": "dd995952-8e76-49a7-b9bf-73270dd5ff20",
   "metadata": {},
   "outputs": [],
   "source": []
  },
  {
   "cell_type": "code",
   "execution_count": 2,
   "id": "dc4e755c-ad67-42f9-aaf9-77ca3a74e13d",
   "metadata": {},
   "outputs": [
    {
     "data": {
      "text/plain": [
       "2000"
      ]
     },
     "execution_count": 2,
     "metadata": {},
     "output_type": "execute_result"
    }
   ],
   "source": [
    "given_videos = glob.glob(r'/Users/wallander/Downloads/train_data_yappy/train_dataset/*.mp4')\n",
    "len(given_videos)"
   ]
  },
  {
   "cell_type": "code",
   "execution_count": 3,
   "id": "2a3d9df4-b202-4f60-bf16-f8c8c976ccdf",
   "metadata": {},
   "outputs": [
    {
     "data": {
      "text/html": [
       "<div>\n",
       "<style scoped>\n",
       "    .dataframe tbody tr th:only-of-type {\n",
       "        vertical-align: middle;\n",
       "    }\n",
       "\n",
       "    .dataframe tbody tr th {\n",
       "        vertical-align: top;\n",
       "    }\n",
       "\n",
       "    .dataframe thead th {\n",
       "        text-align: right;\n",
       "    }\n",
       "</style>\n",
       "<table border=\"1\" class=\"dataframe\">\n",
       "  <thead>\n",
       "    <tr style=\"text-align: right;\">\n",
       "      <th></th>\n",
       "      <th>created</th>\n",
       "      <th>uuid</th>\n",
       "      <th>link</th>\n",
       "      <th>is_duplicate</th>\n",
       "      <th>duplicate_for</th>\n",
       "      <th>is_hard</th>\n",
       "    </tr>\n",
       "  </thead>\n",
       "  <tbody>\n",
       "    <tr>\n",
       "      <th>0</th>\n",
       "      <td>2024-06-01 00:05:43</td>\n",
       "      <td>23fac2f2-7f00-48cb-b3ac-aac8caa3b6b4</td>\n",
       "      <td>https://s3.ritm.media/yappy-db-duplicates/23fa...</td>\n",
       "      <td>False</td>\n",
       "      <td>NaN</td>\n",
       "      <td>False</td>\n",
       "    </tr>\n",
       "    <tr>\n",
       "      <th>1</th>\n",
       "      <td>2024-06-01 00:11:01</td>\n",
       "      <td>2fa37210-3c25-4a87-88f2-1242c2c8a699</td>\n",
       "      <td>https://s3.ritm.media/yappy-db-duplicates/2fa3...</td>\n",
       "      <td>False</td>\n",
       "      <td>NaN</td>\n",
       "      <td>False</td>\n",
       "    </tr>\n",
       "    <tr>\n",
       "      <th>2</th>\n",
       "      <td>2024-06-01 00:13:20</td>\n",
       "      <td>31cc33d5-95de-4799-ad01-87c8498d1bde</td>\n",
       "      <td>https://s3.ritm.media/yappy-db-duplicates/31cc...</td>\n",
       "      <td>False</td>\n",
       "      <td>NaN</td>\n",
       "      <td>False</td>\n",
       "    </tr>\n",
       "    <tr>\n",
       "      <th>3</th>\n",
       "      <td>2024-06-01 00:27:23</td>\n",
       "      <td>03abd0ec-609e-4eea-9f2a-b6b7442bc881</td>\n",
       "      <td>https://s3.ritm.media/yappy-db-duplicates/03ab...</td>\n",
       "      <td>False</td>\n",
       "      <td>NaN</td>\n",
       "      <td>False</td>\n",
       "    </tr>\n",
       "    <tr>\n",
       "      <th>4</th>\n",
       "      <td>2024-06-01 00:30:23</td>\n",
       "      <td>22ee0045-004b-4c7e-98f2-77e5e02e2f15</td>\n",
       "      <td>https://s3.ritm.media/yappy-db-duplicates/22ee...</td>\n",
       "      <td>False</td>\n",
       "      <td>NaN</td>\n",
       "      <td>False</td>\n",
       "    </tr>\n",
       "  </tbody>\n",
       "</table>\n",
       "</div>"
      ],
      "text/plain": [
       "               created                                  uuid  \\\n",
       "0  2024-06-01 00:05:43  23fac2f2-7f00-48cb-b3ac-aac8caa3b6b4   \n",
       "1  2024-06-01 00:11:01  2fa37210-3c25-4a87-88f2-1242c2c8a699   \n",
       "2  2024-06-01 00:13:20  31cc33d5-95de-4799-ad01-87c8498d1bde   \n",
       "3  2024-06-01 00:27:23  03abd0ec-609e-4eea-9f2a-b6b7442bc881   \n",
       "4  2024-06-01 00:30:23  22ee0045-004b-4c7e-98f2-77e5e02e2f15   \n",
       "\n",
       "                                                link  is_duplicate  \\\n",
       "0  https://s3.ritm.media/yappy-db-duplicates/23fa...         False   \n",
       "1  https://s3.ritm.media/yappy-db-duplicates/2fa3...         False   \n",
       "2  https://s3.ritm.media/yappy-db-duplicates/31cc...         False   \n",
       "3  https://s3.ritm.media/yappy-db-duplicates/03ab...         False   \n",
       "4  https://s3.ritm.media/yappy-db-duplicates/22ee...         False   \n",
       "\n",
       "  duplicate_for  is_hard  \n",
       "0           NaN    False  \n",
       "1           NaN    False  \n",
       "2           NaN    False  \n",
       "3           NaN    False  \n",
       "4           NaN    False  "
      ]
     },
     "execution_count": 3,
     "metadata": {},
     "output_type": "execute_result"
    }
   ],
   "source": [
    "description = pd.read_csv('/Users/wallander/Downloads/train_data_yappy/train.csv')\n",
    "description.head()"
   ]
  },
  {
   "cell_type": "code",
   "execution_count": 4,
   "id": "0cc29852-9d38-4c32-80ef-676b08cbf3ca",
   "metadata": {},
   "outputs": [
    {
     "data": {
      "text/html": [
       "<div>\n",
       "<style scoped>\n",
       "    .dataframe tbody tr th:only-of-type {\n",
       "        vertical-align: middle;\n",
       "    }\n",
       "\n",
       "    .dataframe tbody tr th {\n",
       "        vertical-align: top;\n",
       "    }\n",
       "\n",
       "    .dataframe thead th {\n",
       "        text-align: right;\n",
       "    }\n",
       "</style>\n",
       "<table border=\"1\" class=\"dataframe\">\n",
       "  <thead>\n",
       "    <tr style=\"text-align: right;\">\n",
       "      <th></th>\n",
       "      <th>created</th>\n",
       "      <th>uuid</th>\n",
       "      <th>link</th>\n",
       "      <th>is_duplicate</th>\n",
       "      <th>duplicate_for</th>\n",
       "      <th>is_hard</th>\n",
       "      <th>video_1</th>\n",
       "      <th>video_2</th>\n",
       "    </tr>\n",
       "  </thead>\n",
       "  <tbody>\n",
       "    <tr>\n",
       "      <th>0</th>\n",
       "      <td>2024-06-01 00:05:43</td>\n",
       "      <td>23fac2f2-7f00-48cb-b3ac-aac8caa3b6b4</td>\n",
       "      <td>https://s3.ritm.media/yappy-db-duplicates/23fa...</td>\n",
       "      <td>False</td>\n",
       "      <td>NaN</td>\n",
       "      <td>False</td>\n",
       "      <td>/Users/wallander/Downloads/train_data_yappy/tr...</td>\n",
       "      <td>None</td>\n",
       "    </tr>\n",
       "    <tr>\n",
       "      <th>1</th>\n",
       "      <td>2024-06-01 00:11:01</td>\n",
       "      <td>2fa37210-3c25-4a87-88f2-1242c2c8a699</td>\n",
       "      <td>https://s3.ritm.media/yappy-db-duplicates/2fa3...</td>\n",
       "      <td>False</td>\n",
       "      <td>NaN</td>\n",
       "      <td>False</td>\n",
       "      <td>/Users/wallander/Downloads/train_data_yappy/tr...</td>\n",
       "      <td>None</td>\n",
       "    </tr>\n",
       "    <tr>\n",
       "      <th>2</th>\n",
       "      <td>2024-06-01 00:13:20</td>\n",
       "      <td>31cc33d5-95de-4799-ad01-87c8498d1bde</td>\n",
       "      <td>https://s3.ritm.media/yappy-db-duplicates/31cc...</td>\n",
       "      <td>False</td>\n",
       "      <td>NaN</td>\n",
       "      <td>False</td>\n",
       "      <td>/Users/wallander/Downloads/train_data_yappy/tr...</td>\n",
       "      <td>None</td>\n",
       "    </tr>\n",
       "    <tr>\n",
       "      <th>3</th>\n",
       "      <td>2024-06-01 00:27:23</td>\n",
       "      <td>03abd0ec-609e-4eea-9f2a-b6b7442bc881</td>\n",
       "      <td>https://s3.ritm.media/yappy-db-duplicates/03ab...</td>\n",
       "      <td>False</td>\n",
       "      <td>NaN</td>\n",
       "      <td>False</td>\n",
       "      <td>/Users/wallander/Downloads/train_data_yappy/tr...</td>\n",
       "      <td>None</td>\n",
       "    </tr>\n",
       "    <tr>\n",
       "      <th>4</th>\n",
       "      <td>2024-06-01 00:30:23</td>\n",
       "      <td>22ee0045-004b-4c7e-98f2-77e5e02e2f15</td>\n",
       "      <td>https://s3.ritm.media/yappy-db-duplicates/22ee...</td>\n",
       "      <td>False</td>\n",
       "      <td>NaN</td>\n",
       "      <td>False</td>\n",
       "      <td>/Users/wallander/Downloads/train_data_yappy/tr...</td>\n",
       "      <td>None</td>\n",
       "    </tr>\n",
       "  </tbody>\n",
       "</table>\n",
       "</div>"
      ],
      "text/plain": [
       "               created                                  uuid  \\\n",
       "0  2024-06-01 00:05:43  23fac2f2-7f00-48cb-b3ac-aac8caa3b6b4   \n",
       "1  2024-06-01 00:11:01  2fa37210-3c25-4a87-88f2-1242c2c8a699   \n",
       "2  2024-06-01 00:13:20  31cc33d5-95de-4799-ad01-87c8498d1bde   \n",
       "3  2024-06-01 00:27:23  03abd0ec-609e-4eea-9f2a-b6b7442bc881   \n",
       "4  2024-06-01 00:30:23  22ee0045-004b-4c7e-98f2-77e5e02e2f15   \n",
       "\n",
       "                                                link  is_duplicate  \\\n",
       "0  https://s3.ritm.media/yappy-db-duplicates/23fa...         False   \n",
       "1  https://s3.ritm.media/yappy-db-duplicates/2fa3...         False   \n",
       "2  https://s3.ritm.media/yappy-db-duplicates/31cc...         False   \n",
       "3  https://s3.ritm.media/yappy-db-duplicates/03ab...         False   \n",
       "4  https://s3.ritm.media/yappy-db-duplicates/22ee...         False   \n",
       "\n",
       "  duplicate_for  is_hard                                            video_1  \\\n",
       "0           NaN    False  /Users/wallander/Downloads/train_data_yappy/tr...   \n",
       "1           NaN    False  /Users/wallander/Downloads/train_data_yappy/tr...   \n",
       "2           NaN    False  /Users/wallander/Downloads/train_data_yappy/tr...   \n",
       "3           NaN    False  /Users/wallander/Downloads/train_data_yappy/tr...   \n",
       "4           NaN    False  /Users/wallander/Downloads/train_data_yappy/tr...   \n",
       "\n",
       "  video_2  \n",
       "0    None  \n",
       "1    None  \n",
       "2    None  \n",
       "3    None  \n",
       "4    None  "
      ]
     },
     "execution_count": 4,
     "metadata": {},
     "output_type": "execute_result"
    }
   ],
   "source": [
    "def get_path(video_path, root):\n",
    "    try:\n",
    "        return os.path.join(root, video_path + '.mp4')\n",
    "    except:\n",
    "        return None\n",
    "\n",
    "root = '/Users/wallander/Downloads/train_data_yappy/train_dataset'\n",
    "\n",
    "description['video_1'] = description['uuid'].apply(lambda x: get_path(x, root))\n",
    "description['video_2'] = description['duplicate_for'].apply(lambda x: get_path(x, root))\n",
    "description = description[(description['video_1'].isin(given_videos))].copy()\n",
    "description.head()"
   ]
  },
  {
   "cell_type": "code",
   "execution_count": 5,
   "id": "3348d6ae-0a69-43a3-94bb-25e7278a1609",
   "metadata": {},
   "outputs": [
    {
     "data": {
      "text/plain": [
       "is_duplicate\n",
       "False    1948\n",
       "True       52\n",
       "Name: count, dtype: int64"
      ]
     },
     "execution_count": 5,
     "metadata": {},
     "output_type": "execute_result"
    }
   ],
   "source": [
    "description['is_duplicate'].value_counts()"
   ]
  },
  {
   "cell_type": "code",
   "execution_count": 6,
   "id": "8a2ea7ff-21b6-4775-b871-4fe81383cf72",
   "metadata": {},
   "outputs": [
    {
     "data": {
      "text/plain": [
       "is_hard\n",
       "False    1988\n",
       "True       12\n",
       "Name: count, dtype: int64"
      ]
     },
     "execution_count": 6,
     "metadata": {},
     "output_type": "execute_result"
    }
   ],
   "source": [
    "description['is_hard'].value_counts()"
   ]
  },
  {
   "cell_type": "code",
   "execution_count": 7,
   "id": "44e7b43d-9118-466e-aa49-bc391ec5f9bd",
   "metadata": {},
   "outputs": [
    {
     "data": {
      "text/plain": [
       "is_duplicate\n",
       "False    12\n",
       "Name: count, dtype: int64"
      ]
     },
     "execution_count": 7,
     "metadata": {},
     "output_type": "execute_result"
    }
   ],
   "source": [
    "description[description['is_hard'] == True]['is_duplicate'].value_counts()"
   ]
  },
  {
   "cell_type": "code",
   "execution_count": 8,
   "id": "85b7ff41-a5dd-4bd9-a0c6-9e45c4d0f4d6",
   "metadata": {},
   "outputs": [
    {
     "data": {
      "text/plain": [
       "2000"
      ]
     },
     "execution_count": 8,
     "metadata": {},
     "output_type": "execute_result"
    }
   ],
   "source": [
    "description['uuid'].nunique()"
   ]
  },
  {
   "cell_type": "code",
   "execution_count": 141,
   "id": "90618ccd-fa48-4714-920f-e4663b9e6f02",
   "metadata": {},
   "outputs": [],
   "source": [
    "video_idx = description['uuid'].to_dict()\n",
    "inverse_video_idx = {value: key for key, value in video_idx.items()}\n",
    "description['duplicate_id'] = description['duplicate_for'].map(inverse_video_idx)"
   ]
  },
  {
   "cell_type": "markdown",
   "id": "cd004a1b-a8b3-4f23-8dab-666487bcd7b0",
   "metadata": {},
   "source": [
    "## Gradio stand"
   ]
  },
  {
   "cell_type": "code",
   "execution_count": 111,
   "id": "1c93cd8d-25ab-41ac-ae2a-b272ecafb549",
   "metadata": {
    "scrolled": true
   },
   "outputs": [
    {
     "name": "stdout",
     "output_type": "stream",
     "text": [
      "Running on local URL:  http://127.0.0.1:7863\n",
      "\n",
      "To create a public link, set `share=True` in `launch()`.\n"
     ]
    },
    {
     "data": {
      "text/html": [
       "<div><iframe src=\"http://127.0.0.1:7863/\" width=\"100%\" height=\"500\" allow=\"autoplay; camera; microphone; clipboard-read; clipboard-write;\" frameborder=\"0\" allowfullscreen></iframe></div>"
      ],
      "text/plain": [
       "<IPython.core.display.HTML object>"
      ]
     },
     "metadata": {},
     "output_type": "display_data"
    },
    {
     "data": {
      "text/plain": []
     },
     "execution_count": 111,
     "metadata": {},
     "output_type": "execute_result"
    }
   ],
   "source": [
    "hard_pair = description[description['is_duplicate'] == True].sample(1)\n",
    "# video_1 = hard_pair['video_1'].values[0]\n",
    "# video_2 = hard_pair['video_2'].values[0]\n",
    "video_1 = description.loc[212, 'video_1']\n",
    "video_2 = description.loc[153, 'video_1']\n",
    "\n",
    "with gr.Blocks() as demo:\n",
    "    with gr.Row():\n",
    "        gr.Video(video_1)\n",
    "        gr.Video(video_2)\n",
    "        # gr.Video('/Users/wallander/Downloads/train_data_yappy/train_dataset/3d8304d8-b202-4c1c-bcb8-998fb7f767ae.mp4')\n",
    "        \n",
    "demo.launch()"
   ]
  },
  {
   "cell_type": "code",
   "execution_count": null,
   "id": "004be060-d7f5-4833-9d6a-8430c10a6c61",
   "metadata": {},
   "outputs": [],
   "source": []
  },
  {
   "cell_type": "markdown",
   "id": "bc72715d-d055-44e5-a1c8-ef4d76f50879",
   "metadata": {},
   "source": [
    "## Video processing"
   ]
  },
  {
   "cell_type": "code",
   "execution_count": 11,
   "id": "51109d3c-4512-4cd8-b2da-478ad821c71a",
   "metadata": {},
   "outputs": [],
   "source": [
    "model = resnet50(weights=ResNet50_Weights.IMAGENET1K_V1)"
   ]
  },
  {
   "cell_type": "code",
   "execution_count": 12,
   "id": "1867f63a-e29b-48ac-9572-7c0bb4190155",
   "metadata": {},
   "outputs": [],
   "source": [
    "class BasicVisionDataset(VisionDataset):\n",
    "    def __init__(self, images, transform=None, target_transform=None):\n",
    "        if isinstance(images, np.ndarray):\n",
    "            transform.transforms.insert(0, transforms.ToPILImage())\n",
    "        super(BasicVisionDataset, self).__init__(root=None, transform=transform, target_transform=target_transform)\n",
    "        self.images = images\n",
    "\n",
    "    def __getitem__(self, index):\n",
    "        return torch.unsqueeze(self.transform(self.images[index]), 0)\n",
    "\n",
    "    def __len__(self):\n",
    "        return len(self.targets)"
   ]
  },
  {
   "cell_type": "code",
   "execution_count": 13,
   "id": "e5fd7ea3-2995-4af6-8e01-3e89ecbbab14",
   "metadata": {},
   "outputs": [],
   "source": [
    "class FEDataset(Dataset):\n",
    "\n",
    "    def __init__(self, images, root_dir=None, transform=None):\n",
    "        \"\"\"\n",
    "        Arguments:\n",
    "            csv_file (string): Path to the csv file with annotations.\n",
    "            root_dir (string): Directory with all the images.\n",
    "            transform (callable, optional): Optional transform to be applied\n",
    "                on a sample.\n",
    "        \"\"\"\n",
    "            \n",
    "        self.images = images\n",
    "        self.root_dir = root_dir\n",
    "        self.transform = transform\n",
    "\n",
    "    def __len__(self):\n",
    "        return len(self.images)\n",
    "\n",
    "    def __getitem__(self, idx):\n",
    "        return self.transform(self.images[idx])"
   ]
  },
  {
   "cell_type": "code",
   "execution_count": 14,
   "id": "596c46ba-fe77-4075-aa63-87e081f37585",
   "metadata": {},
   "outputs": [],
   "source": [
    "transform = transforms.Compose([\n",
    "    transforms.ToPILImage(),\n",
    "    transforms.Resize(256),\n",
    "    transforms.CenterCrop(224),\n",
    "    transforms.ToTensor(),\n",
    "    transforms.Normalize(\n",
    "        mean=[0.485, 0.456, 0.406],\n",
    "        std=[0.229, 0.224, 0.225],\n",
    "    )\n",
    "])"
   ]
  },
  {
   "cell_type": "code",
   "execution_count": 196,
   "id": "b59eebb0-81f8-4542-8da8-ea0059ccc428",
   "metadata": {},
   "outputs": [],
   "source": [
    "def video_to_vec(video_fp, transform):\n",
    "    vidcap = cv2.VideoCapture(video_fp)  \n",
    "    fps = int(vidcap.get(cv2.CAP_PROP_FPS))\n",
    "    n_frames = int(vidcap.get(cv2.CAP_PROP_FRAME_COUNT))\n",
    "    \n",
    "    frames = np.stack([vidcap.read()[1] for i in range(n_frames) if (i % fps) == 0])\n",
    "    \n",
    "    dataset = FEDataset(frames, transform=transform)\n",
    "    dataloader = DataLoader(dataset=dataset, batch_size=16)\n",
    "    output = torch.vstack([model(batch) for batch in dataloader])\n",
    "\n",
    "    return output.detach().numpy()\n",
    "\n",
    "\n",
    "def get_vectors(id, step, vectors):\n",
    "    l = step * (id // step)\n",
    "    r = step * (id // step + 1)\n",
    "    return np.load(os.path.join(vectors, f'{l}_{r}.npz'), allow_pickle=True)[f'arr_{id % step}']\n",
    "\n",
    "def get_vidcap_param(video_fp, params):\n",
    "    vidcap = cv2.VideoCapture(video_fp)\n",
    "    return [vidcap.get(param) for param in params]"
   ]
  },
  {
   "cell_type": "code",
   "execution_count": 16,
   "id": "da7c9e2a-4eff-45f4-8985-a4ffe721a0b7",
   "metadata": {},
   "outputs": [],
   "source": [
    "steps = 101\n",
    "step = 2000 // (steps - 1)\n",
    "ls = np.linspace(0, 2000, steps).astype(int)\n",
    "\n",
    "vectors = 'vectors'\n",
    "for l, r in zip(ls[:-1], ls[1:]):\n",
    "    if not os.path.exists(vectors):\n",
    "        os.mkdir(vectors)\n",
    "    path = os.path.join(vectors, f'{l}_{r}.npz') \n",
    "    if os.path.exists(path):\n",
    "        continue\n",
    "    else:\n",
    "        buf = description.iloc[l:r]['video_1'].apply(lambda x: video_to_vec(x, transform)).to_list()\n",
    "        np.savez(path, *buf)"
   ]
  },
  {
   "cell_type": "code",
   "execution_count": 17,
   "id": "ff4adf3b-1479-4c1a-abbd-84c0662d4593",
   "metadata": {},
   "outputs": [],
   "source": [
    "def get_duplicate_vectors(x, step, vectors):\n",
    "    try:\n",
    "        return get_vectors(x, step, vectors)\n",
    "    except:\n",
    "        return None\n",
    "\n",
    "\n",
    "mapping = {filename: i for i, filename in enumerate(description['video_1'].values)}\n",
    "description['vector'] = description['video_1'].map(mapping).apply(lambda x: get_vectors(x, step, vectors))"
   ]
  },
  {
   "cell_type": "code",
   "execution_count": null,
   "id": "56c68a2e-8b4c-4f63-a0ef-8ae35d80730d",
   "metadata": {},
   "outputs": [],
   "source": []
  },
  {
   "cell_type": "markdown",
   "id": "4a1f33a1-ccc4-4466-bf65-3e85c1c4a796",
   "metadata": {},
   "source": [
    "## Milvus"
   ]
  },
  {
   "cell_type": "code",
   "execution_count": 18,
   "id": "7dbac5a2-406e-4f9e-9011-a5ed875f7441",
   "metadata": {},
   "outputs": [],
   "source": [
    "client = MilvusClient('./milvus_demo.db')"
   ]
  },
  {
   "cell_type": "code",
   "execution_count": 20,
   "id": "aa9606fb-1375-4ad2-b59f-436d610fd06a",
   "metadata": {},
   "outputs": [],
   "source": [
    "if client.has_collection(collection_name='demo_collection'):\n",
    "    client.drop_collection(collection_name='demo_collection')\n",
    "    \n",
    "client.create_collection(\n",
    "    collection_name='demo_collection',\n",
    "    dimension=1000,\n",
    ")"
   ]
  },
  {
   "cell_type": "code",
   "execution_count": 21,
   "id": "e06ebe8b-8616-4fbd-9ff9-95f4c5d5b20a",
   "metadata": {},
   "outputs": [],
   "source": [
    "videos = description['vector'].values\n",
    "data = []\n",
    "\n",
    "for i, video in enumerate(videos):\n",
    "    data += [{'id': i, 'vector': fr} for _, fr in enumerate(video)]\n",
    "    \n",
    "db = client.insert(\n",
    "    collection_name='demo_collection',\n",
    "    data=data\n",
    ")"
   ]
  },
  {
   "cell_type": "code",
   "execution_count": null,
   "id": "bff1b480-7935-4315-9d00-2dacc211566d",
   "metadata": {},
   "outputs": [],
   "source": []
  },
  {
   "cell_type": "markdown",
   "id": "b842813c-cd44-4c26-8413-36f93294e27b",
   "metadata": {},
   "source": [
    "## Similarity"
   ]
  },
  {
   "cell_type": "code",
   "execution_count": 142,
   "id": "72c5147e-3a47-4f8f-9c56-8be3722fd1da",
   "metadata": {},
   "outputs": [],
   "source": [
    "df_test = pd.read_csv('test.csv')\n",
    "df_test['vector'] = df_test['video_1'].map(mapping).apply(lambda x: get_vectors(x, step, vectors))\n",
    "df_test['duplicate_id'] = df_test['duplicate_for'].map(inverse_video_idx)"
   ]
  },
  {
   "cell_type": "code",
   "execution_count": 156,
   "id": "0ac081a8-af28-49dc-91bf-fb76359206da",
   "metadata": {},
   "outputs": [],
   "source": [
    "df_train = pd.read_csv('train.csv')\n",
    "df_train['vector'] = df_train['video_1'].map(mapping).apply(lambda x: get_vectors(x, step, vectors))\n",
    "df_train['duplicate_id'] = df_train['duplicate_for'].map(inverse_video_idx)"
   ]
  },
  {
   "cell_type": "code",
   "execution_count": 158,
   "id": "6fad73ee-b407-43af-ae34-cb9fc7f5cf35",
   "metadata": {},
   "outputs": [],
   "source": [
    "train_video_similarity = {}\n",
    "thr = 0.7\n",
    "\n",
    "for i, row in df_train.iterrows():\n",
    "    counter = Counter()\n",
    "    created_ts = row['created']\n",
    "    video_filename = row['uuid']\n",
    "    video = row['vector']\n",
    "    idx = description[(description['uuid'] != video_filename) & (description['created'] <= created_ts)].index.tolist()\n",
    "    if idx == []:\n",
    "        continue\n",
    "    \n",
    "    res = client.search(\n",
    "        collection_name='demo_collection',\n",
    "        data=video, # replace with your query vector\n",
    "        limit=1,\n",
    "        filter=f'id in {idx}',\n",
    "        metric_type='cosine',\n",
    "        params={\n",
    "            'radius': thr,\n",
    "            'range_filter': thr + .01,\n",
    "        },\n",
    "        output_fields=['id'],\n",
    "    )\n",
    "    \n",
    "    for entry in res:\n",
    "        counter[entry[0]['id']] += entry[0]['distance']\n",
    "    train_video_similarity[video_filename] = counter.most_common()[0]"
   ]
  },
  {
   "cell_type": "code",
   "execution_count": 160,
   "id": "f5f377e2-7223-4566-84d1-644faa49534a",
   "metadata": {},
   "outputs": [],
   "source": [
    "test_video_similarity = {}\n",
    "\n",
    "for i, row in df_test.iterrows():\n",
    "    counter = Counter()\n",
    "    created_ts = row['created']\n",
    "    video_filename = row['uuid']\n",
    "    video = row['vector']\n",
    "    idx = description[(description['uuid'] != video_filename) & (description['created'] <= created_ts)].index.tolist()\n",
    "    if idx == []:\n",
    "        continue\n",
    "    \n",
    "    res = client.search(\n",
    "        collection_name='demo_collection',\n",
    "        data=video, # replace with your query vector\n",
    "        limit=1,\n",
    "        filter=f'id in {idx}',\n",
    "        metric_type='cosine',\n",
    "        params={\n",
    "            'radius': thr,\n",
    "            'range_filter': thr + .01,\n",
    "        },\n",
    "        output_fields=['id'],\n",
    "    )\n",
    "    \n",
    "    for entry in res:\n",
    "        counter[entry[0]['id']] += entry[0]['distance']\n",
    "    test_video_similarity[video_filename] = counter.most_common()[0]"
   ]
  },
  {
   "cell_type": "code",
   "execution_count": 164,
   "id": "d741cb0e-e50d-40f6-814e-3c3f68f14c96",
   "metadata": {},
   "outputs": [
    {
     "data": {
      "text/html": [
       "<div>\n",
       "<style scoped>\n",
       "    .dataframe tbody tr th:only-of-type {\n",
       "        vertical-align: middle;\n",
       "    }\n",
       "\n",
       "    .dataframe tbody tr th {\n",
       "        vertical-align: top;\n",
       "    }\n",
       "\n",
       "    .dataframe thead th {\n",
       "        text-align: right;\n",
       "    }\n",
       "</style>\n",
       "<table border=\"1\" class=\"dataframe\">\n",
       "  <thead>\n",
       "    <tr style=\"text-align: right;\">\n",
       "      <th></th>\n",
       "      <th>created</th>\n",
       "      <th>uuid</th>\n",
       "      <th>link</th>\n",
       "      <th>is_duplicate</th>\n",
       "      <th>duplicate_for</th>\n",
       "      <th>is_hard</th>\n",
       "      <th>video_1</th>\n",
       "      <th>video_2</th>\n",
       "      <th>vector_1</th>\n",
       "      <th>vector_2</th>\n",
       "      <th>vector</th>\n",
       "      <th>duplicate_id</th>\n",
       "      <th>video_similarity</th>\n",
       "    </tr>\n",
       "  </thead>\n",
       "  <tbody>\n",
       "    <tr>\n",
       "      <th>0</th>\n",
       "      <td>2024-06-04 04:48:49</td>\n",
       "      <td>215d0b86-2bab-4081-970c-3e59d7761ccb</td>\n",
       "      <td>https://s3.ritm.media/yappy-db-duplicates/215d...</td>\n",
       "      <td>False</td>\n",
       "      <td>NaN</td>\n",
       "      <td>False</td>\n",
       "      <td>/Users/wallander/Downloads/train_data_yappy/tr...</td>\n",
       "      <td>NaN</td>\n",
       "      <td>[[ 0.3488465  -0.71843207 -1.097622   ...  1.0...</td>\n",
       "      <td>NaN</td>\n",
       "      <td>[[0.3488465, -0.71843207, -1.097622, -1.280640...</td>\n",
       "      <td>NaN</td>\n",
       "      <td>2.259133</td>\n",
       "    </tr>\n",
       "    <tr>\n",
       "      <th>1</th>\n",
       "      <td>2024-06-01 14:58:19</td>\n",
       "      <td>2925df14-c98c-47f5-a4cf-6b21d41be9b9</td>\n",
       "      <td>https://s3.ritm.media/yappy-db-duplicates/2925...</td>\n",
       "      <td>False</td>\n",
       "      <td>NaN</td>\n",
       "      <td>False</td>\n",
       "      <td>/Users/wallander/Downloads/train_data_yappy/tr...</td>\n",
       "      <td>NaN</td>\n",
       "      <td>[[-0.71260405  0.36375737  0.19422503 ...  0.1...</td>\n",
       "      <td>NaN</td>\n",
       "      <td>[[-0.71260405, 0.36375737, 0.19422503, -0.3882...</td>\n",
       "      <td>NaN</td>\n",
       "      <td>1.379539</td>\n",
       "    </tr>\n",
       "    <tr>\n",
       "      <th>2</th>\n",
       "      <td>2024-06-07 04:56:08</td>\n",
       "      <td>2fac9bfa-9326-4fa2-92b5-313cc50f9068</td>\n",
       "      <td>https://s3.ritm.media/yappy-db-duplicates/2fac...</td>\n",
       "      <td>False</td>\n",
       "      <td>NaN</td>\n",
       "      <td>False</td>\n",
       "      <td>/Users/wallander/Downloads/train_data_yappy/tr...</td>\n",
       "      <td>NaN</td>\n",
       "      <td>[[ 0.59485203  0.6931638   1.7225157  ... -1.0...</td>\n",
       "      <td>NaN</td>\n",
       "      <td>[[0.59485203, 0.6931638, 1.7225157, 0.3593938,...</td>\n",
       "      <td>NaN</td>\n",
       "      <td>1.901853</td>\n",
       "    </tr>\n",
       "    <tr>\n",
       "      <th>3</th>\n",
       "      <td>2024-06-05 18:09:20</td>\n",
       "      <td>3e47012b-2fde-4fef-8622-7d84379dfc7d</td>\n",
       "      <td>https://s3.ritm.media/yappy-db-duplicates/3e47...</td>\n",
       "      <td>False</td>\n",
       "      <td>NaN</td>\n",
       "      <td>False</td>\n",
       "      <td>/Users/wallander/Downloads/train_data_yappy/tr...</td>\n",
       "      <td>NaN</td>\n",
       "      <td>[[ 1.2379974   0.46831685  1.1437972  ...  0.0...</td>\n",
       "      <td>NaN</td>\n",
       "      <td>[[1.2379974, 0.46831685, 1.1437972, 0.08837265...</td>\n",
       "      <td>NaN</td>\n",
       "      <td>1.378546</td>\n",
       "    </tr>\n",
       "    <tr>\n",
       "      <th>4</th>\n",
       "      <td>2024-06-05 03:22:27</td>\n",
       "      <td>33895280-4519-4af4-b650-e55de2cf54cb</td>\n",
       "      <td>https://s3.ritm.media/yappy-db-duplicates/3389...</td>\n",
       "      <td>False</td>\n",
       "      <td>NaN</td>\n",
       "      <td>False</td>\n",
       "      <td>/Users/wallander/Downloads/train_data_yappy/tr...</td>\n",
       "      <td>NaN</td>\n",
       "      <td>[[-1.5078713  -0.5003367  -2.0516872  ...  0.0...</td>\n",
       "      <td>NaN</td>\n",
       "      <td>[[-1.5078713, -0.5003367, -2.0516872, -3.01824...</td>\n",
       "      <td>NaN</td>\n",
       "      <td>2.450636</td>\n",
       "    </tr>\n",
       "  </tbody>\n",
       "</table>\n",
       "</div>"
      ],
      "text/plain": [
       "               created                                  uuid  \\\n",
       "0  2024-06-04 04:48:49  215d0b86-2bab-4081-970c-3e59d7761ccb   \n",
       "1  2024-06-01 14:58:19  2925df14-c98c-47f5-a4cf-6b21d41be9b9   \n",
       "2  2024-06-07 04:56:08  2fac9bfa-9326-4fa2-92b5-313cc50f9068   \n",
       "3  2024-06-05 18:09:20  3e47012b-2fde-4fef-8622-7d84379dfc7d   \n",
       "4  2024-06-05 03:22:27  33895280-4519-4af4-b650-e55de2cf54cb   \n",
       "\n",
       "                                                link  is_duplicate  \\\n",
       "0  https://s3.ritm.media/yappy-db-duplicates/215d...         False   \n",
       "1  https://s3.ritm.media/yappy-db-duplicates/2925...         False   \n",
       "2  https://s3.ritm.media/yappy-db-duplicates/2fac...         False   \n",
       "3  https://s3.ritm.media/yappy-db-duplicates/3e47...         False   \n",
       "4  https://s3.ritm.media/yappy-db-duplicates/3389...         False   \n",
       "\n",
       "  duplicate_for  is_hard                                            video_1  \\\n",
       "0           NaN    False  /Users/wallander/Downloads/train_data_yappy/tr...   \n",
       "1           NaN    False  /Users/wallander/Downloads/train_data_yappy/tr...   \n",
       "2           NaN    False  /Users/wallander/Downloads/train_data_yappy/tr...   \n",
       "3           NaN    False  /Users/wallander/Downloads/train_data_yappy/tr...   \n",
       "4           NaN    False  /Users/wallander/Downloads/train_data_yappy/tr...   \n",
       "\n",
       "  video_2                                           vector_1  vector_2  \\\n",
       "0     NaN  [[ 0.3488465  -0.71843207 -1.097622   ...  1.0...       NaN   \n",
       "1     NaN  [[-0.71260405  0.36375737  0.19422503 ...  0.1...       NaN   \n",
       "2     NaN  [[ 0.59485203  0.6931638   1.7225157  ... -1.0...       NaN   \n",
       "3     NaN  [[ 1.2379974   0.46831685  1.1437972  ...  0.0...       NaN   \n",
       "4     NaN  [[-1.5078713  -0.5003367  -2.0516872  ...  0.0...       NaN   \n",
       "\n",
       "                                              vector  duplicate_id  \\\n",
       "0  [[0.3488465, -0.71843207, -1.097622, -1.280640...           NaN   \n",
       "1  [[-0.71260405, 0.36375737, 0.19422503, -0.3882...           NaN   \n",
       "2  [[0.59485203, 0.6931638, 1.7225157, 0.3593938,...           NaN   \n",
       "3  [[1.2379974, 0.46831685, 1.1437972, 0.08837265...           NaN   \n",
       "4  [[-1.5078713, -0.5003367, -2.0516872, -3.01824...           NaN   \n",
       "\n",
       "   video_similarity  \n",
       "0          2.259133  \n",
       "1          1.379539  \n",
       "2          1.901853  \n",
       "3          1.378546  \n",
       "4          2.450636  "
      ]
     },
     "execution_count": 164,
     "metadata": {},
     "output_type": "execute_result"
    }
   ],
   "source": [
    "df_train['video_similarity'] = df_train['uuid'].apply(lambda x: train_video_similarity.get(x, [None])[-1])\n",
    "df_test['video_similarity'] = df_test['uuid'].apply(lambda x: test_video_similarity.get(x, [None])[-1])\n",
    "df_test.head()"
   ]
  },
  {
   "cell_type": "code",
   "execution_count": 165,
   "id": "038242bf-3533-4fa5-878b-a20986ab2098",
   "metadata": {},
   "outputs": [
    {
     "data": {
      "text/html": [
       "<div>\n",
       "<style scoped>\n",
       "    .dataframe tbody tr th:only-of-type {\n",
       "        vertical-align: middle;\n",
       "    }\n",
       "\n",
       "    .dataframe tbody tr th {\n",
       "        vertical-align: top;\n",
       "    }\n",
       "\n",
       "    .dataframe thead th {\n",
       "        text-align: right;\n",
       "    }\n",
       "</style>\n",
       "<table border=\"1\" class=\"dataframe\">\n",
       "  <thead>\n",
       "    <tr style=\"text-align: right;\">\n",
       "      <th></th>\n",
       "      <th>created</th>\n",
       "      <th>uuid</th>\n",
       "      <th>link</th>\n",
       "      <th>is_duplicate</th>\n",
       "      <th>duplicate_for</th>\n",
       "      <th>is_hard</th>\n",
       "      <th>video_1</th>\n",
       "      <th>video_2</th>\n",
       "      <th>vector_1</th>\n",
       "      <th>vector_2</th>\n",
       "      <th>vector</th>\n",
       "      <th>duplicate_id</th>\n",
       "      <th>video_similarity</th>\n",
       "    </tr>\n",
       "  </thead>\n",
       "  <tbody>\n",
       "    <tr>\n",
       "      <th>16</th>\n",
       "      <td>2024-06-06 06:45:16</td>\n",
       "      <td>63b899be-9547-44c2-91b2-e1b71510a614</td>\n",
       "      <td>https://s3.ritm.media/yappy-db-duplicates/63b8...</td>\n",
       "      <td>True</td>\n",
       "      <td>4a14964b-3ccf-4673-93fc-86c37a489333</td>\n",
       "      <td>False</td>\n",
       "      <td>/Users/wallander/Downloads/train_data_yappy/tr...</td>\n",
       "      <td>/Users/wallander/Downloads/train_data_yappy/tr...</td>\n",
       "      <td>[[ 1.1087284e+00 -6.6176802e-01 -5.6514573e-01...</td>\n",
       "      <td>NaN</td>\n",
       "      <td>[[1.1087284, -0.661768, -0.56514573, 0.0236847...</td>\n",
       "      <td>61.0</td>\n",
       "      <td>9.193621</td>\n",
       "    </tr>\n",
       "    <tr>\n",
       "      <th>140</th>\n",
       "      <td>2024-06-03 01:57:24</td>\n",
       "      <td>05d72fc9-89a3-47bf-bb1b-6db4fc6f2b56</td>\n",
       "      <td>https://s3.ritm.media/yappy-db-duplicates/05d7...</td>\n",
       "      <td>True</td>\n",
       "      <td>090cb968-02eb-4aba-8b94-f6124050df59</td>\n",
       "      <td>False</td>\n",
       "      <td>/Users/wallander/Downloads/train_data_yappy/tr...</td>\n",
       "      <td>/Users/wallander/Downloads/train_data_yappy/tr...</td>\n",
       "      <td>[[-2.2799623  -1.1117591  -1.7731289  ... -1.2...</td>\n",
       "      <td>NaN</td>\n",
       "      <td>[[-2.2799623, -1.1117591, -1.7731289, -2.51834...</td>\n",
       "      <td>384.0</td>\n",
       "      <td>13.010233</td>\n",
       "    </tr>\n",
       "    <tr>\n",
       "      <th>141</th>\n",
       "      <td>2024-06-07 14:39:54</td>\n",
       "      <td>4e13f784-dc74-4532-b944-1789b3a95af1</td>\n",
       "      <td>https://s3.ritm.media/yappy-db-duplicates/4e13...</td>\n",
       "      <td>True</td>\n",
       "      <td>0e0bc479-6a06-4901-8e71-99463edc5e52</td>\n",
       "      <td>False</td>\n",
       "      <td>/Users/wallander/Downloads/train_data_yappy/tr...</td>\n",
       "      <td>/Users/wallander/Downloads/train_data_yappy/tr...</td>\n",
       "      <td>[[-1.0500007   0.01436962 -1.0920494  ... -0.1...</td>\n",
       "      <td>NaN</td>\n",
       "      <td>[[-1.0500007, 0.014369617, -1.0920494, -1.3740...</td>\n",
       "      <td>179.0</td>\n",
       "      <td>1.939005</td>\n",
       "    </tr>\n",
       "    <tr>\n",
       "      <th>241</th>\n",
       "      <td>2024-06-06 07:50:45</td>\n",
       "      <td>b7defd6d-f2ba-4dec-b341-0a04f471a721</td>\n",
       "      <td>https://s3.ritm.media/yappy-db-duplicates/b7de...</td>\n",
       "      <td>True</td>\n",
       "      <td>1454c25b-fe4c-4073-a73a-9fba3fb048c2</td>\n",
       "      <td>False</td>\n",
       "      <td>/Users/wallander/Downloads/train_data_yappy/tr...</td>\n",
       "      <td>/Users/wallander/Downloads/train_data_yappy/tr...</td>\n",
       "      <td>[[-0.9018568  -1.4180013   0.0425047  ... -1.6...</td>\n",
       "      <td>NaN</td>\n",
       "      <td>[[-0.9018568, -1.4180013, 0.0425047, -0.176348...</td>\n",
       "      <td>132.0</td>\n",
       "      <td>1.709110</td>\n",
       "    </tr>\n",
       "    <tr>\n",
       "      <th>248</th>\n",
       "      <td>2024-06-06 06:46:30</td>\n",
       "      <td>1ad0536e-8422-409f-9e4a-3dc64f5e260a</td>\n",
       "      <td>https://s3.ritm.media/yappy-db-duplicates/1ad0...</td>\n",
       "      <td>True</td>\n",
       "      <td>3b447013-9202-415d-ae15-b1d76ce8e060</td>\n",
       "      <td>False</td>\n",
       "      <td>/Users/wallander/Downloads/train_data_yappy/tr...</td>\n",
       "      <td>/Users/wallander/Downloads/train_data_yappy/tr...</td>\n",
       "      <td>[[-2.0423083  -0.8111954  -2.1818283  ...  0.7...</td>\n",
       "      <td>NaN</td>\n",
       "      <td>[[-2.0423083, -0.8111954, -2.1818283, -2.18543...</td>\n",
       "      <td>196.0</td>\n",
       "      <td>8.922762</td>\n",
       "    </tr>\n",
       "  </tbody>\n",
       "</table>\n",
       "</div>"
      ],
      "text/plain": [
       "                 created                                  uuid  \\\n",
       "16   2024-06-06 06:45:16  63b899be-9547-44c2-91b2-e1b71510a614   \n",
       "140  2024-06-03 01:57:24  05d72fc9-89a3-47bf-bb1b-6db4fc6f2b56   \n",
       "141  2024-06-07 14:39:54  4e13f784-dc74-4532-b944-1789b3a95af1   \n",
       "241  2024-06-06 07:50:45  b7defd6d-f2ba-4dec-b341-0a04f471a721   \n",
       "248  2024-06-06 06:46:30  1ad0536e-8422-409f-9e4a-3dc64f5e260a   \n",
       "\n",
       "                                                  link  is_duplicate  \\\n",
       "16   https://s3.ritm.media/yappy-db-duplicates/63b8...          True   \n",
       "140  https://s3.ritm.media/yappy-db-duplicates/05d7...          True   \n",
       "141  https://s3.ritm.media/yappy-db-duplicates/4e13...          True   \n",
       "241  https://s3.ritm.media/yappy-db-duplicates/b7de...          True   \n",
       "248  https://s3.ritm.media/yappy-db-duplicates/1ad0...          True   \n",
       "\n",
       "                            duplicate_for  is_hard  \\\n",
       "16   4a14964b-3ccf-4673-93fc-86c37a489333    False   \n",
       "140  090cb968-02eb-4aba-8b94-f6124050df59    False   \n",
       "141  0e0bc479-6a06-4901-8e71-99463edc5e52    False   \n",
       "241  1454c25b-fe4c-4073-a73a-9fba3fb048c2    False   \n",
       "248  3b447013-9202-415d-ae15-b1d76ce8e060    False   \n",
       "\n",
       "                                               video_1  \\\n",
       "16   /Users/wallander/Downloads/train_data_yappy/tr...   \n",
       "140  /Users/wallander/Downloads/train_data_yappy/tr...   \n",
       "141  /Users/wallander/Downloads/train_data_yappy/tr...   \n",
       "241  /Users/wallander/Downloads/train_data_yappy/tr...   \n",
       "248  /Users/wallander/Downloads/train_data_yappy/tr...   \n",
       "\n",
       "                                               video_2  \\\n",
       "16   /Users/wallander/Downloads/train_data_yappy/tr...   \n",
       "140  /Users/wallander/Downloads/train_data_yappy/tr...   \n",
       "141  /Users/wallander/Downloads/train_data_yappy/tr...   \n",
       "241  /Users/wallander/Downloads/train_data_yappy/tr...   \n",
       "248  /Users/wallander/Downloads/train_data_yappy/tr...   \n",
       "\n",
       "                                              vector_1  vector_2  \\\n",
       "16   [[ 1.1087284e+00 -6.6176802e-01 -5.6514573e-01...       NaN   \n",
       "140  [[-2.2799623  -1.1117591  -1.7731289  ... -1.2...       NaN   \n",
       "141  [[-1.0500007   0.01436962 -1.0920494  ... -0.1...       NaN   \n",
       "241  [[-0.9018568  -1.4180013   0.0425047  ... -1.6...       NaN   \n",
       "248  [[-2.0423083  -0.8111954  -2.1818283  ...  0.7...       NaN   \n",
       "\n",
       "                                                vector  duplicate_id  \\\n",
       "16   [[1.1087284, -0.661768, -0.56514573, 0.0236847...          61.0   \n",
       "140  [[-2.2799623, -1.1117591, -1.7731289, -2.51834...         384.0   \n",
       "141  [[-1.0500007, 0.014369617, -1.0920494, -1.3740...         179.0   \n",
       "241  [[-0.9018568, -1.4180013, 0.0425047, -0.176348...         132.0   \n",
       "248  [[-2.0423083, -0.8111954, -2.1818283, -2.18543...         196.0   \n",
       "\n",
       "     video_similarity  \n",
       "16           9.193621  \n",
       "140         13.010233  \n",
       "141          1.939005  \n",
       "241          1.709110  \n",
       "248          8.922762  "
      ]
     },
     "execution_count": 165,
     "metadata": {},
     "output_type": "execute_result"
    }
   ],
   "source": [
    "df_test.query('is_duplicate == True').head()\n",
    "# description.query('is_hard == True').head()"
   ]
  },
  {
   "cell_type": "code",
   "execution_count": 192,
   "id": "5b04a537-6e49-48fd-8b3d-a21ec9bec0e2",
   "metadata": {},
   "outputs": [
    {
     "data": {
      "text/plain": [
       "0       2024-06-04 10:14:10\n",
       "1       2024-06-04 17:18:48\n",
       "2       2024-06-05 23:58:42\n",
       "3       2024-06-03 02:06:10\n",
       "4       2024-06-02 22:09:25\n",
       "               ...         \n",
       "1495    2024-06-06 07:46:08\n",
       "1496    2024-06-05 12:01:59\n",
       "1497    2024-06-06 15:20:52\n",
       "1498    2024-06-05 11:14:33\n",
       "1499    2024-06-08 17:14:23\n",
       "Name: created, Length: 1500, dtype: object"
      ]
     },
     "execution_count": 192,
     "metadata": {},
     "output_type": "execute_result"
    }
   ],
   "source": [
    "df_train['created']"
   ]
  },
  {
   "cell_type": "markdown",
   "id": "e20f8dd8-985f-453d-ae2f-d44d29fdf6fd",
   "metadata": {},
   "source": [
    "## ML"
   ]
  },
  {
   "cell_type": "code",
   "execution_count": 170,
   "id": "a44c2e76-22b1-404b-a9eb-48e37b9edda2",
   "metadata": {},
   "outputs": [],
   "source": [
    "from sklearn.linear_model import LogisticRegression\n",
    "from sklearn.model_selection import train_test_split\n",
    "from sklearn.metrics import f1_score"
   ]
  },
  {
   "cell_type": "code",
   "execution_count": 206,
   "id": "15017308-74ed-481e-ae71-af44e6f4ddb0",
   "metadata": {},
   "outputs": [],
   "source": [
    "df_train['params'] = df_train['video_1'].apply(lambda x: get_vidcap_param(\n",
    "    x, [cv2.CAP_PROP_FPS, cv2.CAP_PROP_FRAME_COUNT, cv2.CAP_PROP_FRAME_WIDTH, cv2.CAP_PROP_FRAME_HEIGHT]\n",
    "))\n",
    "df_test['params'] = df_test['video_1'].apply(lambda x: get_vidcap_param(\n",
    "    x, [cv2.CAP_PROP_FPS, cv2.CAP_PROP_FRAME_COUNT, cv2.CAP_PROP_FRAME_WIDTH, cv2.CAP_PROP_FRAME_HEIGHT]\n",
    "))"
   ]
  },
  {
   "cell_type": "code",
   "execution_count": null,
   "id": "e214df09-d454-4ca9-b187-3a942d96e29d",
   "metadata": {},
   "outputs": [],
   "source": []
  },
  {
   "cell_type": "code",
   "execution_count": 210,
   "id": "172f8ae3-b318-444f-b8a1-14c4be00cfe6",
   "metadata": {},
   "outputs": [],
   "source": [
    "X_train = df_train[['video_similarity', 'fps', 'n_frames', 'w', 'h']].values\n",
    "y_train = df_train['is_duplicate']\n",
    "X_test = df_test[['video_similarity', 'fps', 'n_frames', 'w', 'h']].fillna(0).values\n",
    "y_test = df_test['is_duplicate']"
   ]
  },
  {
   "cell_type": "code",
   "execution_count": 211,
   "id": "b911ed0c-9b7d-4492-9a05-9b5d53c52ceb",
   "metadata": {},
   "outputs": [
    {
     "data": {
      "text/plain": [
       "0.27906976744186046"
      ]
     },
     "execution_count": 211,
     "metadata": {},
     "output_type": "execute_result"
    }
   ],
   "source": [
    "model = LogisticRegression(class_weight={0: 1, 1: 20})\n",
    "model.fit(X_train, y_train)\n",
    "y_pred = model.predict(X_test)\n",
    "f1_score(y_test, y_pred)"
   ]
  },
  {
   "cell_type": "code",
   "execution_count": 208,
   "id": "59059202-aa79-43e9-9583-e8c7290904db",
   "metadata": {},
   "outputs": [],
   "source": [
    "df_train[['fps','n_frames', 'w', 'h']] = pd.DataFrame(df_train['params'].tolist(), index=df_train.index)\n",
    "df_test[['fps','n_frames', 'w', 'h']] = pd.DataFrame(df_test['params'].tolist(), index=df_test.index)"
   ]
  },
  {
   "cell_type": "code",
   "execution_count": 212,
   "id": "cb054d2a-f9ba-4ba4-aaa5-471580306c38",
   "metadata": {},
   "outputs": [],
   "source": [
    "from catboost import CatBoostClassifier"
   ]
  },
  {
   "cell_type": "code",
   "execution_count": 222,
   "id": "c331a856-a185-4fc4-8083-e5ccb7e12259",
   "metadata": {},
   "outputs": [
    {
     "data": {
      "text/plain": [
       "0.375"
      ]
     },
     "execution_count": 222,
     "metadata": {},
     "output_type": "execute_result"
    }
   ],
   "source": [
    "model = CatBoostClassifier(\n",
    "    iterations=1500,\n",
    "    learning_rate=0.01,\n",
    "    auto_class_weights='Balanced',\n",
    "    depth=8,\n",
    "    random_state=42,\n",
    "    verbose=False,\n",
    ")\n",
    "model.fit(X_train, y_train)\n",
    "y_pred = model.predict(X_test)\n",
    "f1_score(y_test, y_pred)"
   ]
  },
  {
   "cell_type": "code",
   "execution_count": null,
   "id": "cfb7fd68-70e4-41e2-9365-8f41e2b579e3",
   "metadata": {},
   "outputs": [],
   "source": []
  }
 ],
 "metadata": {
  "kernelspec": {
   "display_name": "Python 3 (ipykernel)",
   "language": "python",
   "name": "python3"
  },
  "language_info": {
   "codemirror_mode": {
    "name": "ipython",
    "version": 3
   },
   "file_extension": ".py",
   "mimetype": "text/x-python",
   "name": "python",
   "nbconvert_exporter": "python",
   "pygments_lexer": "ipython3",
   "version": "3.12.6"
  }
 },
 "nbformat": 4,
 "nbformat_minor": 5
}
