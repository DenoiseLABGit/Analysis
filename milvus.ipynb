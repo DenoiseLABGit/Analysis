{
 "cells": [
  {
   "cell_type": "code",
   "execution_count": 227,
   "id": "01da6df2-a160-499a-867b-ac3390a8851c",
   "metadata": {},
   "outputs": [],
   "source": [
    "import cv2\n",
    "import torch\n",
    "\n",
    "from pymilvus import MilvusClient\n",
    "\n",
    "from torch.utils.data import Dataset, DataLoader\n",
    "from torchvision import transforms\n",
    "from torchvision.datasets import VisionDataset\n",
    "from torchvision.models import resnet50, ResNet50_Weights\n",
    "from videohash import VideoHash"
   ]
  },
  {
   "cell_type": "markdown",
   "id": "05dd66ad-a8c8-47a5-a0e1-edd5bb9b9cd6",
   "metadata": {},
   "source": [
    "# Video preprocessing"
   ]
  },
  {
   "cell_type": "code",
   "execution_count": 190,
   "id": "d084003d-129a-4c3b-a621-6da8417363f9",
   "metadata": {},
   "outputs": [
    {
     "name": "stdout",
     "output_type": "stream",
     "text": [
      "58\n"
     ]
    }
   ],
   "source": [
    "success = 0\n",
    "count = 0\n",
    "\n",
    "vidcap = cv2.VideoCapture('/Users/wallander/Desktop/v0.mp4')\n",
    "\n",
    "frames = []\n",
    "while success:\n",
    "    success, image = vidcap.read()\n",
    "    if (count % 24) == 0 and success:\n",
    "        frames.append(image)\n",
    "    count += 1\n",
    "    \n",
    "frames = np.stack(frames)\n",
    "\n",
    "print(len(frames))"
   ]
  },
  {
   "cell_type": "code",
   "execution_count": 28,
   "id": "3ba8bf92-5b54-4af7-8871-ecdd0d6395ac",
   "metadata": {},
   "outputs": [],
   "source": [
    "model = resnet50(weights=ResNet50_Weights.IMAGENET1K_V1)"
   ]
  },
  {
   "cell_type": "code",
   "execution_count": 202,
   "id": "ea197e94-e729-42a2-8075-5753d3fa2d5b",
   "metadata": {},
   "outputs": [],
   "source": [
    "class BasicVisionDataset(VisionDataset):\n",
    "    def __init__(self, images, transform=None, target_transform=None):\n",
    "        if isinstance(images, np.ndarray):\n",
    "            transform.transforms.insert(0, transforms.ToPILImage())\n",
    "        super(BasicVisionDataset, self).__init__(root=None, transform=transform, target_transform=target_transform)\n",
    "        self.images = images\n",
    "\n",
    "    def __getitem__(self, index):\n",
    "        return torch.unsqueeze(self.transform(self.images[index]), 0)\n",
    "\n",
    "    def __len__(self):\n",
    "        return len(self.targets)"
   ]
  },
  {
   "cell_type": "code",
   "execution_count": 220,
   "id": "2782111f-e25d-4dd6-a401-18970f05a0b0",
   "metadata": {},
   "outputs": [],
   "source": [
    "class FEDataset(Dataset):\n",
    "\n",
    "    def __init__(self, images, root_dir=None, transform=None):\n",
    "        \"\"\"\n",
    "        Arguments:\n",
    "            csv_file (string): Path to the csv file with annotations.\n",
    "            root_dir (string): Directory with all the images.\n",
    "            transform (callable, optional): Optional transform to be applied\n",
    "                on a sample.\n",
    "        \"\"\"\n",
    "        if isinstance(images, np.ndarray) and transform is not None:\n",
    "            transform.transforms.insert(0, transforms.ToPILImage())\n",
    "            \n",
    "        self.images = images\n",
    "        self.root_dir = root_dir\n",
    "        self.transform = transform\n",
    "\n",
    "    def __len__(self):\n",
    "        return len(self.images)\n",
    "\n",
    "    def __getitem__(self, idx):\n",
    "        return self.transform(self.images[idx])"
   ]
  },
  {
   "cell_type": "code",
   "execution_count": 221,
   "id": "29355595-ec8f-466a-aeba-629f9d32650b",
   "metadata": {},
   "outputs": [],
   "source": [
    "transform = transforms.Compose([\n",
    "    transforms.Resize(256),\n",
    "    transforms.CenterCrop(224),\n",
    "    transforms.ToTensor(),\n",
    "    transforms.Normalize(\n",
    "        mean=[0.485, 0.456, 0.406],\n",
    "        std=[0.229, 0.224, 0.225],\n",
    "    )\n",
    "])\n",
    "\n",
    "dataset = FEDataset(frames, transform=transform)\n",
    "dataloader = DataLoader(dataset=dataset, batch_size=16)"
   ]
  },
  {
   "cell_type": "code",
   "execution_count": 222,
   "id": "4e586180-d558-4172-82d7-5463d3428e55",
   "metadata": {},
   "outputs": [
    {
     "data": {
      "text/plain": [
       "torch.Size([3, 224, 224])"
      ]
     },
     "execution_count": 222,
     "metadata": {},
     "output_type": "execute_result"
    }
   ],
   "source": [
    "dataset[1].shape"
   ]
  },
  {
   "cell_type": "code",
   "execution_count": 245,
   "id": "c5ecf48d-0d20-4cde-8bbb-134c4f0f742f",
   "metadata": {},
   "outputs": [
    {
     "data": {
      "text/plain": [
       "torch.Size([58, 1000])"
      ]
     },
     "execution_count": 245,
     "metadata": {},
     "output_type": "execute_result"
    }
   ],
   "source": [
    "output = torch.vstack([model(batch) for batch in dataloader])\n",
    "output.shape"
   ]
  },
  {
   "cell_type": "code",
   "execution_count": null,
   "id": "766a1eaa-c7d2-4001-b85a-6d8623525b7c",
   "metadata": {},
   "outputs": [],
   "source": []
  },
  {
   "cell_type": "markdown",
   "id": "4c0f3161-4411-463c-87c8-c29d95ab9567",
   "metadata": {},
   "source": [
    "# Milvus"
   ]
  },
  {
   "cell_type": "code",
   "execution_count": 257,
   "id": "f738354b-2ecb-440a-a577-51c839219119",
   "metadata": {},
   "outputs": [],
   "source": [
    "output = output.detach().numpy()"
   ]
  },
  {
   "cell_type": "code",
   "execution_count": 258,
   "id": "5fbc71c0-1d30-4dee-a9d5-a29ade0a8a1c",
   "metadata": {},
   "outputs": [],
   "source": [
    "client = MilvusClient(\"./milvus_demo.db\")"
   ]
  },
  {
   "cell_type": "code",
   "execution_count": 259,
   "id": "98a84d66-b205-4de5-8311-02a3f8c187ad",
   "metadata": {},
   "outputs": [],
   "source": [
    "if client.has_collection(collection_name=\"demo_collection\"):\n",
    "    client.drop_collection(collection_name=\"demo_collection\")\n",
    "client.create_collection(\n",
    "    collection_name=\"demo_collection\",\n",
    "    dimension=1000,\n",
    ")"
   ]
  },
  {
   "cell_type": "code",
   "execution_count": 260,
   "id": "5c03d9fa-2992-4657-b491-a3036e7e1955",
   "metadata": {},
   "outputs": [],
   "source": [
    "data = [ {\"id\": i, \"vector\": output[i], \"text\": str(i), \"subject\": \"history\"} for i in range(len(output)) ]\n",
    "res = client.insert(\n",
    "    collection_name=\"demo_collection\",\n",
    "    data=data\n",
    ")"
   ]
  },
  {
   "cell_type": "code",
   "execution_count": null,
   "id": "5640ed3c-60c8-43c6-b794-63960247d9f1",
   "metadata": {},
   "outputs": [],
   "source": []
  },
  {
   "cell_type": "code",
   "execution_count": 261,
   "id": "704e8d5f-8148-4a39-a013-786084f4ac49",
   "metadata": {},
   "outputs": [
    {
     "data": {
      "text/plain": [
       "{'insert_count': 58, 'ids': [0, 1, 2, 3, 4, 5, 6, 7, 8, 9, 10, 11, 12, 13, 14, 15, 16, 17, 18, 19, 20, 21, 22, 23, 24, 25, 26, 27, 28, 29, 30, 31, 32, 33, 34, 35, 36, 37, 38, 39, 40, 41, 42, 43, 44, 45, 46, 47, 48, 49, 50, 51, 52, 53, 54, 55, 56, 57], 'cost': 0}"
      ]
     },
     "execution_count": 261,
     "metadata": {},
     "output_type": "execute_result"
    }
   ],
   "source": [
    "res"
   ]
  },
  {
   "cell_type": "code",
   "execution_count": 273,
   "id": "1bfac089-893d-4773-8f08-63707843f35e",
   "metadata": {},
   "outputs": [
    {
     "name": "stdout",
     "output_type": "stream",
     "text": [
      "distance: 1.0000003576278687\n",
      "id: 45\n",
      "distance: 0.7165123224258423\n",
      "id: 42\n",
      "distance: 0.6817314028739929\n",
      "id: 49\n"
     ]
    }
   ],
   "source": [
    "res = client.search(\n",
    "    collection_name=\"demo_collection\",\n",
    "    data=[output[45]], # replace with your query vector\n",
    "    limit=3,\n",
    "    output_fields=[\"id\", \"text\"]\n",
    ")\n",
    "\n",
    "for i in res[0]:\n",
    "    print(f'distance: {i[\"distance\"]}')\n",
    "    print(f'id: {i[\"id\"]}')"
   ]
  },
  {
   "cell_type": "code",
   "execution_count": null,
   "id": "0357646f-9c6f-4e92-9a51-e66b293b9bfa",
   "metadata": {},
   "outputs": [],
   "source": []
  }
 ],
 "metadata": {
  "kernelspec": {
   "display_name": "Python 3 (ipykernel)",
   "language": "python",
   "name": "python3"
  },
  "language_info": {
   "codemirror_mode": {
    "name": "ipython",
    "version": 3
   },
   "file_extension": ".py",
   "mimetype": "text/x-python",
   "name": "python",
   "nbconvert_exporter": "python",
   "pygments_lexer": "ipython3",
   "version": "3.12.6"
  }
 },
 "nbformat": 4,
 "nbformat_minor": 5
}
