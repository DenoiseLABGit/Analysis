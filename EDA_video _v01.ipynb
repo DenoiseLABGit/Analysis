{
 "cells": [
  {
   "cell_type": "code",
   "execution_count": 1,
   "id": "4efb4eae-07ee-496a-9455-d4e90c6223b3",
   "metadata": {},
   "outputs": [],
   "source": [
    "import cv2\n",
    "import glob\n",
    "import gradio as gr\n",
    "import json\n",
    "import numpy as np\n",
    "import os\n",
    "import pandas as pd\n",
    "import sys\n",
    "import torch\n",
    "import warnings\n",
    "\n",
    "from catboost import CatBoostClassifier\n",
    "\n",
    "from collections import Counter\n",
    "from PIL import Image\n",
    "\n",
    "from pymilvus import MilvusClient\n",
    "\n",
    "from tqdm import tqdm_notebook as tqdm\n",
    "\n",
    "from sklearn.linear_model import LogisticRegression\n",
    "from sklearn.model_selection import train_test_split\n",
    "from sklearn.metrics import f1_score, classification_report\n",
    "\n",
    "from torch.utils.data import Dataset, DataLoader\n",
    "from torchvision import transforms\n",
    "from torchvision.datasets import VisionDataset\n",
    "from torchvision.models import resnet50, ResNet50_Weights\n",
    "from videohash import VideoHash\n",
    "\n",
    "warnings.filterwarnings('ignore')"
   ]
  },
  {
   "cell_type": "code",
   "execution_count": null,
   "id": "dd995952-8e76-49a7-b9bf-73270dd5ff20",
   "metadata": {},
   "outputs": [],
   "source": []
  },
  {
   "cell_type": "code",
   "execution_count": 2,
   "id": "dc4e755c-ad67-42f9-aaf9-77ca3a74e13d",
   "metadata": {},
   "outputs": [
    {
     "data": {
      "text/plain": [
       "2000"
      ]
     },
     "execution_count": 2,
     "metadata": {},
     "output_type": "execute_result"
    }
   ],
   "source": [
    "given_videos = glob.glob(r'/Users/wallander/Downloads/train_data_yappy/train_dataset/*.mp4')\n",
    "len(given_videos)"
   ]
  },
  {
   "cell_type": "code",
   "execution_count": 3,
   "id": "2a3d9df4-b202-4f60-bf16-f8c8c976ccdf",
   "metadata": {},
   "outputs": [
    {
     "data": {
      "text/html": [
       "<div>\n",
       "<style scoped>\n",
       "    .dataframe tbody tr th:only-of-type {\n",
       "        vertical-align: middle;\n",
       "    }\n",
       "\n",
       "    .dataframe tbody tr th {\n",
       "        vertical-align: top;\n",
       "    }\n",
       "\n",
       "    .dataframe thead th {\n",
       "        text-align: right;\n",
       "    }\n",
       "</style>\n",
       "<table border=\"1\" class=\"dataframe\">\n",
       "  <thead>\n",
       "    <tr style=\"text-align: right;\">\n",
       "      <th></th>\n",
       "      <th>created</th>\n",
       "      <th>uuid</th>\n",
       "      <th>link</th>\n",
       "      <th>is_duplicate</th>\n",
       "      <th>duplicate_for</th>\n",
       "      <th>is_hard</th>\n",
       "    </tr>\n",
       "  </thead>\n",
       "  <tbody>\n",
       "    <tr>\n",
       "      <th>0</th>\n",
       "      <td>2024-06-01 00:05:43</td>\n",
       "      <td>23fac2f2-7f00-48cb-b3ac-aac8caa3b6b4</td>\n",
       "      <td>https://s3.ritm.media/yappy-db-duplicates/23fa...</td>\n",
       "      <td>False</td>\n",
       "      <td>NaN</td>\n",
       "      <td>False</td>\n",
       "    </tr>\n",
       "    <tr>\n",
       "      <th>1</th>\n",
       "      <td>2024-06-01 00:11:01</td>\n",
       "      <td>2fa37210-3c25-4a87-88f2-1242c2c8a699</td>\n",
       "      <td>https://s3.ritm.media/yappy-db-duplicates/2fa3...</td>\n",
       "      <td>False</td>\n",
       "      <td>NaN</td>\n",
       "      <td>False</td>\n",
       "    </tr>\n",
       "    <tr>\n",
       "      <th>2</th>\n",
       "      <td>2024-06-01 00:13:20</td>\n",
       "      <td>31cc33d5-95de-4799-ad01-87c8498d1bde</td>\n",
       "      <td>https://s3.ritm.media/yappy-db-duplicates/31cc...</td>\n",
       "      <td>False</td>\n",
       "      <td>NaN</td>\n",
       "      <td>False</td>\n",
       "    </tr>\n",
       "    <tr>\n",
       "      <th>3</th>\n",
       "      <td>2024-06-01 00:27:23</td>\n",
       "      <td>03abd0ec-609e-4eea-9f2a-b6b7442bc881</td>\n",
       "      <td>https://s3.ritm.media/yappy-db-duplicates/03ab...</td>\n",
       "      <td>False</td>\n",
       "      <td>NaN</td>\n",
       "      <td>False</td>\n",
       "    </tr>\n",
       "    <tr>\n",
       "      <th>4</th>\n",
       "      <td>2024-06-01 00:30:23</td>\n",
       "      <td>22ee0045-004b-4c7e-98f2-77e5e02e2f15</td>\n",
       "      <td>https://s3.ritm.media/yappy-db-duplicates/22ee...</td>\n",
       "      <td>False</td>\n",
       "      <td>NaN</td>\n",
       "      <td>False</td>\n",
       "    </tr>\n",
       "  </tbody>\n",
       "</table>\n",
       "</div>"
      ],
      "text/plain": [
       "               created                                  uuid  \\\n",
       "0  2024-06-01 00:05:43  23fac2f2-7f00-48cb-b3ac-aac8caa3b6b4   \n",
       "1  2024-06-01 00:11:01  2fa37210-3c25-4a87-88f2-1242c2c8a699   \n",
       "2  2024-06-01 00:13:20  31cc33d5-95de-4799-ad01-87c8498d1bde   \n",
       "3  2024-06-01 00:27:23  03abd0ec-609e-4eea-9f2a-b6b7442bc881   \n",
       "4  2024-06-01 00:30:23  22ee0045-004b-4c7e-98f2-77e5e02e2f15   \n",
       "\n",
       "                                                link  is_duplicate  \\\n",
       "0  https://s3.ritm.media/yappy-db-duplicates/23fa...         False   \n",
       "1  https://s3.ritm.media/yappy-db-duplicates/2fa3...         False   \n",
       "2  https://s3.ritm.media/yappy-db-duplicates/31cc...         False   \n",
       "3  https://s3.ritm.media/yappy-db-duplicates/03ab...         False   \n",
       "4  https://s3.ritm.media/yappy-db-duplicates/22ee...         False   \n",
       "\n",
       "  duplicate_for  is_hard  \n",
       "0           NaN    False  \n",
       "1           NaN    False  \n",
       "2           NaN    False  \n",
       "3           NaN    False  \n",
       "4           NaN    False  "
      ]
     },
     "execution_count": 3,
     "metadata": {},
     "output_type": "execute_result"
    }
   ],
   "source": [
    "description = pd.read_csv('/Users/wallander/Downloads/train_data_yappy/train.csv')\n",
    "description.head()"
   ]
  },
  {
   "cell_type": "code",
   "execution_count": 4,
   "id": "0cc29852-9d38-4c32-80ef-676b08cbf3ca",
   "metadata": {},
   "outputs": [
    {
     "data": {
      "text/html": [
       "<div>\n",
       "<style scoped>\n",
       "    .dataframe tbody tr th:only-of-type {\n",
       "        vertical-align: middle;\n",
       "    }\n",
       "\n",
       "    .dataframe tbody tr th {\n",
       "        vertical-align: top;\n",
       "    }\n",
       "\n",
       "    .dataframe thead th {\n",
       "        text-align: right;\n",
       "    }\n",
       "</style>\n",
       "<table border=\"1\" class=\"dataframe\">\n",
       "  <thead>\n",
       "    <tr style=\"text-align: right;\">\n",
       "      <th></th>\n",
       "      <th>created</th>\n",
       "      <th>uuid</th>\n",
       "      <th>link</th>\n",
       "      <th>is_duplicate</th>\n",
       "      <th>duplicate_for</th>\n",
       "      <th>is_hard</th>\n",
       "      <th>video_1</th>\n",
       "    </tr>\n",
       "  </thead>\n",
       "  <tbody>\n",
       "    <tr>\n",
       "      <th>0</th>\n",
       "      <td>2024-06-01 00:05:43</td>\n",
       "      <td>23fac2f2-7f00-48cb-b3ac-aac8caa3b6b4</td>\n",
       "      <td>https://s3.ritm.media/yappy-db-duplicates/23fa...</td>\n",
       "      <td>False</td>\n",
       "      <td>NaN</td>\n",
       "      <td>False</td>\n",
       "      <td>/Users/wallander/Downloads/train_data_yappy/tr...</td>\n",
       "    </tr>\n",
       "    <tr>\n",
       "      <th>1</th>\n",
       "      <td>2024-06-01 00:11:01</td>\n",
       "      <td>2fa37210-3c25-4a87-88f2-1242c2c8a699</td>\n",
       "      <td>https://s3.ritm.media/yappy-db-duplicates/2fa3...</td>\n",
       "      <td>False</td>\n",
       "      <td>NaN</td>\n",
       "      <td>False</td>\n",
       "      <td>/Users/wallander/Downloads/train_data_yappy/tr...</td>\n",
       "    </tr>\n",
       "    <tr>\n",
       "      <th>2</th>\n",
       "      <td>2024-06-01 00:13:20</td>\n",
       "      <td>31cc33d5-95de-4799-ad01-87c8498d1bde</td>\n",
       "      <td>https://s3.ritm.media/yappy-db-duplicates/31cc...</td>\n",
       "      <td>False</td>\n",
       "      <td>NaN</td>\n",
       "      <td>False</td>\n",
       "      <td>/Users/wallander/Downloads/train_data_yappy/tr...</td>\n",
       "    </tr>\n",
       "    <tr>\n",
       "      <th>3</th>\n",
       "      <td>2024-06-01 00:27:23</td>\n",
       "      <td>03abd0ec-609e-4eea-9f2a-b6b7442bc881</td>\n",
       "      <td>https://s3.ritm.media/yappy-db-duplicates/03ab...</td>\n",
       "      <td>False</td>\n",
       "      <td>NaN</td>\n",
       "      <td>False</td>\n",
       "      <td>/Users/wallander/Downloads/train_data_yappy/tr...</td>\n",
       "    </tr>\n",
       "    <tr>\n",
       "      <th>4</th>\n",
       "      <td>2024-06-01 00:30:23</td>\n",
       "      <td>22ee0045-004b-4c7e-98f2-77e5e02e2f15</td>\n",
       "      <td>https://s3.ritm.media/yappy-db-duplicates/22ee...</td>\n",
       "      <td>False</td>\n",
       "      <td>NaN</td>\n",
       "      <td>False</td>\n",
       "      <td>/Users/wallander/Downloads/train_data_yappy/tr...</td>\n",
       "    </tr>\n",
       "  </tbody>\n",
       "</table>\n",
       "</div>"
      ],
      "text/plain": [
       "               created                                  uuid  \\\n",
       "0  2024-06-01 00:05:43  23fac2f2-7f00-48cb-b3ac-aac8caa3b6b4   \n",
       "1  2024-06-01 00:11:01  2fa37210-3c25-4a87-88f2-1242c2c8a699   \n",
       "2  2024-06-01 00:13:20  31cc33d5-95de-4799-ad01-87c8498d1bde   \n",
       "3  2024-06-01 00:27:23  03abd0ec-609e-4eea-9f2a-b6b7442bc881   \n",
       "4  2024-06-01 00:30:23  22ee0045-004b-4c7e-98f2-77e5e02e2f15   \n",
       "\n",
       "                                                link  is_duplicate  \\\n",
       "0  https://s3.ritm.media/yappy-db-duplicates/23fa...         False   \n",
       "1  https://s3.ritm.media/yappy-db-duplicates/2fa3...         False   \n",
       "2  https://s3.ritm.media/yappy-db-duplicates/31cc...         False   \n",
       "3  https://s3.ritm.media/yappy-db-duplicates/03ab...         False   \n",
       "4  https://s3.ritm.media/yappy-db-duplicates/22ee...         False   \n",
       "\n",
       "  duplicate_for  is_hard                                            video_1  \n",
       "0           NaN    False  /Users/wallander/Downloads/train_data_yappy/tr...  \n",
       "1           NaN    False  /Users/wallander/Downloads/train_data_yappy/tr...  \n",
       "2           NaN    False  /Users/wallander/Downloads/train_data_yappy/tr...  \n",
       "3           NaN    False  /Users/wallander/Downloads/train_data_yappy/tr...  \n",
       "4           NaN    False  /Users/wallander/Downloads/train_data_yappy/tr...  "
      ]
     },
     "execution_count": 4,
     "metadata": {},
     "output_type": "execute_result"
    }
   ],
   "source": [
    "def get_path(video_path, root):\n",
    "    try:\n",
    "        return os.path.join(root, video_path + '.mp4')\n",
    "    except:\n",
    "        return None\n",
    "\n",
    "root = '/Users/wallander/Downloads/train_data_yappy/train_dataset'\n",
    "\n",
    "description['video_1'] = description['uuid'].apply(lambda x: get_path(x, root))\n",
    "# description['video_2'] = description['duplicate_for'].apply(lambda x: get_path(x, root))\n",
    "description = description[(description['video_1'].isin(given_videos))].copy()\n",
    "description.head()"
   ]
  },
  {
   "cell_type": "code",
   "execution_count": 5,
   "id": "3348d6ae-0a69-43a3-94bb-25e7278a1609",
   "metadata": {},
   "outputs": [
    {
     "data": {
      "text/plain": [
       "is_duplicate\n",
       "False    1948\n",
       "True       52\n",
       "Name: count, dtype: int64"
      ]
     },
     "execution_count": 5,
     "metadata": {},
     "output_type": "execute_result"
    }
   ],
   "source": [
    "description['is_duplicate'].value_counts()"
   ]
  },
  {
   "cell_type": "code",
   "execution_count": 6,
   "id": "8a2ea7ff-21b6-4775-b871-4fe81383cf72",
   "metadata": {},
   "outputs": [
    {
     "data": {
      "text/plain": [
       "is_hard\n",
       "False    1988\n",
       "True       12\n",
       "Name: count, dtype: int64"
      ]
     },
     "execution_count": 6,
     "metadata": {},
     "output_type": "execute_result"
    }
   ],
   "source": [
    "description['is_hard'].value_counts()"
   ]
  },
  {
   "cell_type": "code",
   "execution_count": 7,
   "id": "44e7b43d-9118-466e-aa49-bc391ec5f9bd",
   "metadata": {},
   "outputs": [
    {
     "data": {
      "text/plain": [
       "is_duplicate\n",
       "False    12\n",
       "Name: count, dtype: int64"
      ]
     },
     "execution_count": 7,
     "metadata": {},
     "output_type": "execute_result"
    }
   ],
   "source": [
    "description[description['is_hard'] == True]['is_duplicate'].value_counts()"
   ]
  },
  {
   "cell_type": "code",
   "execution_count": 8,
   "id": "85b7ff41-a5dd-4bd9-a0c6-9e45c4d0f4d6",
   "metadata": {},
   "outputs": [
    {
     "data": {
      "text/plain": [
       "2000"
      ]
     },
     "execution_count": 8,
     "metadata": {},
     "output_type": "execute_result"
    }
   ],
   "source": [
    "description['uuid'].nunique()"
   ]
  },
  {
   "cell_type": "code",
   "execution_count": 9,
   "id": "90618ccd-fa48-4714-920f-e4663b9e6f02",
   "metadata": {},
   "outputs": [],
   "source": [
    "video_idx = description['uuid'].to_dict()\n",
    "inverse_video_idx = {value: key for key, value in video_idx.items()}\n",
    "description['duplicate_id'] = description['duplicate_for'].map(inverse_video_idx)"
   ]
  },
  {
   "cell_type": "markdown",
   "id": "cd004a1b-a8b3-4f23-8dab-666487bcd7b0",
   "metadata": {},
   "source": [
    "## Gradio stand"
   ]
  },
  {
   "cell_type": "code",
   "execution_count": 10,
   "id": "1c93cd8d-25ab-41ac-ae2a-b272ecafb549",
   "metadata": {
    "scrolled": true
   },
   "outputs": [
    {
     "name": "stdout",
     "output_type": "stream",
     "text": [
      "Running on local URL:  http://127.0.0.1:7860\n",
      "\n",
      "To create a public link, set `share=True` in `launch()`.\n"
     ]
    },
    {
     "data": {
      "text/html": [
       "<div><iframe src=\"http://127.0.0.1:7860/\" width=\"100%\" height=\"500\" allow=\"autoplay; camera; microphone; clipboard-read; clipboard-write;\" frameborder=\"0\" allowfullscreen></iframe></div>"
      ],
      "text/plain": [
       "<IPython.core.display.HTML object>"
      ]
     },
     "metadata": {},
     "output_type": "display_data"
    },
    {
     "data": {
      "text/plain": []
     },
     "execution_count": 10,
     "metadata": {},
     "output_type": "execute_result"
    }
   ],
   "source": [
    "hard_pair = description[description['is_duplicate'] == True].sample(1)\n",
    "video_1 = description.loc[212, 'video_1']\n",
    "video_2 = description.loc[153, 'video_1']\n",
    "\n",
    "with gr.Blocks() as demo:\n",
    "    with gr.Row():\n",
    "        gr.Video(video_1)\n",
    "        gr.Video(video_2)\n",
    "        # gr.Video('/Users/wallander/Downloads/train_data_yappy/train_dataset/3d8304d8-b202-4c1c-bcb8-998fb7f767ae.mp4')\n",
    "        \n",
    "demo.launch()"
   ]
  },
  {
   "cell_type": "code",
   "execution_count": null,
   "id": "004be060-d7f5-4833-9d6a-8430c10a6c61",
   "metadata": {},
   "outputs": [],
   "source": []
  },
  {
   "cell_type": "markdown",
   "id": "bc72715d-d055-44e5-a1c8-ef4d76f50879",
   "metadata": {},
   "source": [
    "## Video processing"
   ]
  },
  {
   "cell_type": "code",
   "execution_count": 11,
   "id": "1867f63a-e29b-48ac-9572-7c0bb4190155",
   "metadata": {},
   "outputs": [],
   "source": [
    "class BasicVisionDataset(VisionDataset):\n",
    "    def __init__(self, images, transform=None, target_transform=None):\n",
    "        if isinstance(images, np.ndarray):\n",
    "            transform.transforms.insert(0, transforms.ToPILImage())\n",
    "        super(BasicVisionDataset, self).__init__(root=None, transform=transform, target_transform=target_transform)\n",
    "        self.images = images\n",
    "\n",
    "    def __getitem__(self, index):\n",
    "        return torch.unsqueeze(self.transform(self.images[index]), 0)\n",
    "\n",
    "    def __len__(self):\n",
    "        return len(self.targets)"
   ]
  },
  {
   "cell_type": "code",
   "execution_count": 12,
   "id": "e5fd7ea3-2995-4af6-8e01-3e89ecbbab14",
   "metadata": {},
   "outputs": [],
   "source": [
    "class FEDataset(Dataset):\n",
    "\n",
    "    def __init__(self, images, root_dir=None, transform=None):\n",
    "        \"\"\"\n",
    "        Arguments:\n",
    "            csv_file (string): Path to the csv file with annotations.\n",
    "            root_dir (string): Directory with all the images.\n",
    "            transform (callable, optional): Optional transform to be applied\n",
    "                on a sample.\n",
    "        \"\"\"\n",
    "            \n",
    "        self.images = images\n",
    "        self.root_dir = root_dir\n",
    "        self.transform = transform\n",
    "\n",
    "    def __len__(self):\n",
    "        return len(self.images)\n",
    "\n",
    "    def __getitem__(self, idx):\n",
    "        return self.transform(self.images[idx])"
   ]
  },
  {
   "cell_type": "code",
   "execution_count": 13,
   "id": "596c46ba-fe77-4075-aa63-87e081f37585",
   "metadata": {},
   "outputs": [],
   "source": [
    "transform = transforms.Compose([\n",
    "    transforms.ToPILImage(),\n",
    "    transforms.Resize(256),\n",
    "    transforms.CenterCrop(224),\n",
    "    transforms.ToTensor(),\n",
    "    transforms.Normalize(\n",
    "        mean=[0.485, 0.456, 0.406],\n",
    "        std=[0.229, 0.224, 0.225],\n",
    "    )\n",
    "])"
   ]
  },
  {
   "cell_type": "code",
   "execution_count": 14,
   "id": "b59eebb0-81f8-4542-8da8-ea0059ccc428",
   "metadata": {},
   "outputs": [],
   "source": [
    "def get_vidcap_param(video_fp, params):\n",
    "    vidcap = cv2.VideoCapture(video_fp)\n",
    "    return [vidcap.get(param) for param in params]"
   ]
  },
  {
   "cell_type": "code",
   "execution_count": 15,
   "id": "ff4adf3b-1479-4c1a-abbd-84c0662d4593",
   "metadata": {},
   "outputs": [],
   "source": [
    "video_params = [\n",
    "    cv2.CAP_PROP_FPS,\n",
    "    cv2.CAP_PROP_FRAME_COUNT,\n",
    "    cv2.CAP_PROP_FRAME_WIDTH,\n",
    "    cv2.CAP_PROP_FRAME_HEIGHT,\n",
    "    cv2.CAP_PROP_BITRATE,\n",
    "]\n",
    "video_features = ['fps', 'n_frames', 'w', 'h', 'bitrate',]\n",
    "features = ['video_similarity', 'r', 'duration'] + video_features\n",
    "\n",
    "description['params'] = description['video_1'].apply(lambda x: get_vidcap_param(x, video_params))\n",
    "description['idx'] = description.index\n",
    "description[video_features] = pd.DataFrame(description['params'].tolist(), index=description.index)"
   ]
  },
  {
   "cell_type": "code",
   "execution_count": 16,
   "id": "56c68a2e-8b4c-4f63-a0ef-8ae35d80730d",
   "metadata": {},
   "outputs": [],
   "source": [
    "if os.path.exists('vectors.npz'):\n",
    "    values = np.load('vectors.npz')\n",
    "\n",
    "with open('keys.json', 'r') as file:\n",
    "    d = json.load(file)"
   ]
  },
  {
   "cell_type": "code",
   "execution_count": 17,
   "id": "b9ab7079-8ac9-4812-8dfb-53c6e98b0ed0",
   "metadata": {},
   "outputs": [],
   "source": [
    "db_entries = []\n",
    "\n",
    "for i, (filename, arr) in  enumerate(d.items()):\n",
    "    vectors = values[arr]\n",
    "    db_entries += [{'id': i, 'vector': vector, 'name': filename, 'frame': j} for j, vector in enumerate(vectors)]"
   ]
  },
  {
   "cell_type": "code",
   "execution_count": null,
   "id": "6c7148ca-9a6e-49d5-aa70-cd2bd1f2fc45",
   "metadata": {},
   "outputs": [],
   "source": []
  },
  {
   "cell_type": "markdown",
   "id": "4a1f33a1-ccc4-4466-bf65-3e85c1c4a796",
   "metadata": {},
   "source": [
    "## Milvus"
   ]
  },
  {
   "cell_type": "code",
   "execution_count": 19,
   "id": "7dbac5a2-406e-4f9e-9011-a5ed875f7441",
   "metadata": {},
   "outputs": [],
   "source": [
    "client = MilvusClient('./milvus_demo.db')\n",
    "\n",
    "collection = 'test_collection'\n",
    "\n",
    "if client.has_collection(collection_name=collection):\n",
    "    client.drop_collection(collection_name=collection)\n",
    "    \n",
    "client.create_collection(\n",
    "    collection_name=collection,\n",
    "    dimension=1000,\n",
    ")\n",
    "\n",
    "n_chunks = 3\n",
    "for n in range(n_chunks):\n",
    "    chunk = db_entries[n::n_chunks]\n",
    "    db = client.insert(\n",
    "        collection_name=collection,\n",
    "        data=chunk\n",
    "    )"
   ]
  },
  {
   "cell_type": "markdown",
   "id": "b842813c-cd44-4c26-8413-36f93294e27b",
   "metadata": {},
   "source": [
    "## Similarity"
   ]
  },
  {
   "cell_type": "code",
   "execution_count": 76,
   "id": "f151325a-efa6-42b7-9819-573a5ad0af34",
   "metadata": {},
   "outputs": [],
   "source": [
    "thr = 0.75\n",
    "video_similarity = {}\n",
    "\n",
    "for _, row in description.iterrows():\n",
    "    counter = Counter()\n",
    "    created_ts = row['created']\n",
    "    video_filename = row['uuid']\n",
    "    video = values[d[row['video_1']]]\n",
    "    idx = description[(description['uuid'] != video_filename) & (description['created'] <= created_ts)].index.tolist()\n",
    "    if idx == []:\n",
    "        continue\n",
    "    \n",
    "    res = client.search(\n",
    "        collection_name=collection,\n",
    "        data=video,\n",
    "        limit=1,\n",
    "        filter=f'id in {idx}',\n",
    "        metric_type='cosine',\n",
    "        params={\n",
    "            'radius': thr,\n",
    "            'range_filter': thr + .1,\n",
    "        },\n",
    "        output_fields=['id'],\n",
    "    )\n",
    "    \n",
    "    for entry in res:\n",
    "        counter[entry[0]['id']] += entry[0]['distance']\n",
    "    video_similarity[video_filename] = counter.most_common()[0]"
   ]
  },
  {
   "cell_type": "code",
   "execution_count": null,
   "id": "2cb5ac18-3ee9-4639-aa98-d263a9d424d0",
   "metadata": {},
   "outputs": [],
   "source": []
  },
  {
   "cell_type": "code",
   "execution_count": 77,
   "id": "d741cb0e-e50d-40f6-814e-3c3f68f14c96",
   "metadata": {},
   "outputs": [
    {
     "data": {
      "text/html": [
       "<div>\n",
       "<style scoped>\n",
       "    .dataframe tbody tr th:only-of-type {\n",
       "        vertical-align: middle;\n",
       "    }\n",
       "\n",
       "    .dataframe tbody tr th {\n",
       "        vertical-align: top;\n",
       "    }\n",
       "\n",
       "    .dataframe thead th {\n",
       "        text-align: right;\n",
       "    }\n",
       "</style>\n",
       "<table border=\"1\" class=\"dataframe\">\n",
       "  <thead>\n",
       "    <tr style=\"text-align: right;\">\n",
       "      <th></th>\n",
       "      <th>created</th>\n",
       "      <th>uuid</th>\n",
       "      <th>link</th>\n",
       "      <th>is_duplicate</th>\n",
       "      <th>duplicate_for</th>\n",
       "      <th>is_hard</th>\n",
       "      <th>video_1</th>\n",
       "      <th>duplicate_id</th>\n",
       "      <th>params</th>\n",
       "      <th>idx</th>\n",
       "      <th>fps</th>\n",
       "      <th>n_frames</th>\n",
       "      <th>w</th>\n",
       "      <th>h</th>\n",
       "      <th>bitrate</th>\n",
       "      <th>video_similarity</th>\n",
       "      <th>similar_video</th>\n",
       "      <th>r</th>\n",
       "      <th>duration</th>\n",
       "    </tr>\n",
       "  </thead>\n",
       "  <tbody>\n",
       "    <tr>\n",
       "      <th>0</th>\n",
       "      <td>2024-06-01 00:05:43</td>\n",
       "      <td>23fac2f2-7f00-48cb-b3ac-aac8caa3b6b4</td>\n",
       "      <td>https://s3.ritm.media/yappy-db-duplicates/23fa...</td>\n",
       "      <td>False</td>\n",
       "      <td>NaN</td>\n",
       "      <td>False</td>\n",
       "      <td>/Users/wallander/Downloads/train_data_yappy/tr...</td>\n",
       "      <td>NaN</td>\n",
       "      <td>[30.0, 228.0, 720.0, 1280.0, 4883.0]</td>\n",
       "      <td>0</td>\n",
       "      <td>30.00</td>\n",
       "      <td>228.0</td>\n",
       "      <td>720.0</td>\n",
       "      <td>1280.0</td>\n",
       "      <td>4883.0</td>\n",
       "      <td>NaN</td>\n",
       "      <td>NaN</td>\n",
       "      <td>NaN</td>\n",
       "      <td>7.600000</td>\n",
       "    </tr>\n",
       "    <tr>\n",
       "      <th>1</th>\n",
       "      <td>2024-06-01 00:11:01</td>\n",
       "      <td>2fa37210-3c25-4a87-88f2-1242c2c8a699</td>\n",
       "      <td>https://s3.ritm.media/yappy-db-duplicates/2fa3...</td>\n",
       "      <td>False</td>\n",
       "      <td>NaN</td>\n",
       "      <td>False</td>\n",
       "      <td>/Users/wallander/Downloads/train_data_yappy/tr...</td>\n",
       "      <td>NaN</td>\n",
       "      <td>[30.0, 580.0, 720.0, 1280.0, 2141.0]</td>\n",
       "      <td>1</td>\n",
       "      <td>30.00</td>\n",
       "      <td>580.0</td>\n",
       "      <td>720.0</td>\n",
       "      <td>1280.0</td>\n",
       "      <td>2141.0</td>\n",
       "      <td>11.239502</td>\n",
       "      <td>0.0</td>\n",
       "      <td>0.019378</td>\n",
       "      <td>19.333333</td>\n",
       "    </tr>\n",
       "    <tr>\n",
       "      <th>2</th>\n",
       "      <td>2024-06-01 00:13:20</td>\n",
       "      <td>31cc33d5-95de-4799-ad01-87c8498d1bde</td>\n",
       "      <td>https://s3.ritm.media/yappy-db-duplicates/31cc...</td>\n",
       "      <td>False</td>\n",
       "      <td>NaN</td>\n",
       "      <td>False</td>\n",
       "      <td>/Users/wallander/Downloads/train_data_yappy/tr...</td>\n",
       "      <td>NaN</td>\n",
       "      <td>[30.0, 1389.0, 720.0, 1280.0, 1990.0]</td>\n",
       "      <td>2</td>\n",
       "      <td>30.00</td>\n",
       "      <td>1389.0</td>\n",
       "      <td>720.0</td>\n",
       "      <td>1280.0</td>\n",
       "      <td>1990.0</td>\n",
       "      <td>37.820294</td>\n",
       "      <td>1.0</td>\n",
       "      <td>0.027228</td>\n",
       "      <td>46.300000</td>\n",
       "    </tr>\n",
       "    <tr>\n",
       "      <th>3</th>\n",
       "      <td>2024-06-01 00:27:23</td>\n",
       "      <td>03abd0ec-609e-4eea-9f2a-b6b7442bc881</td>\n",
       "      <td>https://s3.ritm.media/yappy-db-duplicates/03ab...</td>\n",
       "      <td>False</td>\n",
       "      <td>NaN</td>\n",
       "      <td>False</td>\n",
       "      <td>/Users/wallander/Downloads/train_data_yappy/tr...</td>\n",
       "      <td>NaN</td>\n",
       "      <td>[29.97, 600.0, 720.0, 1280.0, 2534.0]</td>\n",
       "      <td>3</td>\n",
       "      <td>29.97</td>\n",
       "      <td>600.0</td>\n",
       "      <td>720.0</td>\n",
       "      <td>1280.0</td>\n",
       "      <td>2534.0</td>\n",
       "      <td>16.014596</td>\n",
       "      <td>2.0</td>\n",
       "      <td>0.026691</td>\n",
       "      <td>20.020020</td>\n",
       "    </tr>\n",
       "    <tr>\n",
       "      <th>4</th>\n",
       "      <td>2024-06-01 00:30:23</td>\n",
       "      <td>22ee0045-004b-4c7e-98f2-77e5e02e2f15</td>\n",
       "      <td>https://s3.ritm.media/yappy-db-duplicates/22ee...</td>\n",
       "      <td>False</td>\n",
       "      <td>NaN</td>\n",
       "      <td>False</td>\n",
       "      <td>/Users/wallander/Downloads/train_data_yappy/tr...</td>\n",
       "      <td>NaN</td>\n",
       "      <td>[30.0, 163.0, 720.0, 1280.0, 1348.0]</td>\n",
       "      <td>4</td>\n",
       "      <td>30.00</td>\n",
       "      <td>163.0</td>\n",
       "      <td>720.0</td>\n",
       "      <td>1280.0</td>\n",
       "      <td>1348.0</td>\n",
       "      <td>1.502037</td>\n",
       "      <td>1.0</td>\n",
       "      <td>0.009215</td>\n",
       "      <td>5.433333</td>\n",
       "    </tr>\n",
       "  </tbody>\n",
       "</table>\n",
       "</div>"
      ],
      "text/plain": [
       "               created                                  uuid  \\\n",
       "0  2024-06-01 00:05:43  23fac2f2-7f00-48cb-b3ac-aac8caa3b6b4   \n",
       "1  2024-06-01 00:11:01  2fa37210-3c25-4a87-88f2-1242c2c8a699   \n",
       "2  2024-06-01 00:13:20  31cc33d5-95de-4799-ad01-87c8498d1bde   \n",
       "3  2024-06-01 00:27:23  03abd0ec-609e-4eea-9f2a-b6b7442bc881   \n",
       "4  2024-06-01 00:30:23  22ee0045-004b-4c7e-98f2-77e5e02e2f15   \n",
       "\n",
       "                                                link  is_duplicate  \\\n",
       "0  https://s3.ritm.media/yappy-db-duplicates/23fa...         False   \n",
       "1  https://s3.ritm.media/yappy-db-duplicates/2fa3...         False   \n",
       "2  https://s3.ritm.media/yappy-db-duplicates/31cc...         False   \n",
       "3  https://s3.ritm.media/yappy-db-duplicates/03ab...         False   \n",
       "4  https://s3.ritm.media/yappy-db-duplicates/22ee...         False   \n",
       "\n",
       "  duplicate_for  is_hard                                            video_1  \\\n",
       "0           NaN    False  /Users/wallander/Downloads/train_data_yappy/tr...   \n",
       "1           NaN    False  /Users/wallander/Downloads/train_data_yappy/tr...   \n",
       "2           NaN    False  /Users/wallander/Downloads/train_data_yappy/tr...   \n",
       "3           NaN    False  /Users/wallander/Downloads/train_data_yappy/tr...   \n",
       "4           NaN    False  /Users/wallander/Downloads/train_data_yappy/tr...   \n",
       "\n",
       "   duplicate_id                                 params  idx    fps  n_frames  \\\n",
       "0           NaN   [30.0, 228.0, 720.0, 1280.0, 4883.0]    0  30.00     228.0   \n",
       "1           NaN   [30.0, 580.0, 720.0, 1280.0, 2141.0]    1  30.00     580.0   \n",
       "2           NaN  [30.0, 1389.0, 720.0, 1280.0, 1990.0]    2  30.00    1389.0   \n",
       "3           NaN  [29.97, 600.0, 720.0, 1280.0, 2534.0]    3  29.97     600.0   \n",
       "4           NaN   [30.0, 163.0, 720.0, 1280.0, 1348.0]    4  30.00     163.0   \n",
       "\n",
       "       w       h  bitrate  video_similarity  similar_video         r  \\\n",
       "0  720.0  1280.0   4883.0               NaN            NaN       NaN   \n",
       "1  720.0  1280.0   2141.0         11.239502            0.0  0.019378   \n",
       "2  720.0  1280.0   1990.0         37.820294            1.0  0.027228   \n",
       "3  720.0  1280.0   2534.0         16.014596            2.0  0.026691   \n",
       "4  720.0  1280.0   1348.0          1.502037            1.0  0.009215   \n",
       "\n",
       "    duration  \n",
       "0   7.600000  \n",
       "1  19.333333  \n",
       "2  46.300000  \n",
       "3  20.020020  \n",
       "4   5.433333  "
      ]
     },
     "execution_count": 77,
     "metadata": {},
     "output_type": "execute_result"
    }
   ],
   "source": [
    "description['video_similarity'] = description['uuid'].apply(lambda x: video_similarity.get(x, [None])[-1])\n",
    "description['similar_video'] = description['uuid'].apply(lambda x: video_similarity.get(x, [None])[0])\n",
    "description['idx'] = description.index\n",
    "description.head()"
   ]
  },
  {
   "cell_type": "code",
   "execution_count": 78,
   "id": "5b04a537-6e49-48fd-8b3d-a21ec9bec0e2",
   "metadata": {},
   "outputs": [],
   "source": [
    "description['r'] = description['video_similarity'] / description['n_frames']\n",
    "description['duration'] = description['n_frames'] / description['fps']\n",
    "description_ = description.merge(description, how='left', left_on=description['similar_video'], right_on=description['idx'])\n",
    "\n",
    "df_train, df_test = train_test_split(description_, stratify=description_[['is_duplicate_x', 'is_hard_x']], random_state=42)"
   ]
  },
  {
   "cell_type": "markdown",
   "id": "e20f8dd8-985f-453d-ae2f-d44d29fdf6fd",
   "metadata": {},
   "source": [
    "## ML"
   ]
  },
  {
   "cell_type": "code",
   "execution_count": null,
   "id": "2757419c-d228-4d2e-8945-8c823dd3c958",
   "metadata": {},
   "outputs": [],
   "source": []
  },
  {
   "cell_type": "code",
   "execution_count": 79,
   "id": "15017308-74ed-481e-ae71-af44e6f4ddb0",
   "metadata": {},
   "outputs": [
    {
     "data": {
      "text/plain": [
       "Index(['key_0', 'created_x', 'uuid_x', 'link_x', 'is_duplicate_x',\n",
       "       'duplicate_for_x', 'is_hard_x', 'video_1_x', 'duplicate_id_x',\n",
       "       'params_x', 'idx_x', 'fps_x', 'n_frames_x', 'w_x', 'h_x', 'bitrate_x',\n",
       "       'video_similarity_x', 'similar_video_x', 'r_x', 'duration_x',\n",
       "       'created_y', 'uuid_y', 'link_y', 'is_duplicate_y', 'duplicate_for_y',\n",
       "       'is_hard_y', 'video_1_y', 'duplicate_id_y', 'params_y', 'idx_y',\n",
       "       'fps_y', 'n_frames_y', 'w_y', 'h_y', 'bitrate_y', 'video_similarity_y',\n",
       "       'similar_video_y', 'r_y', 'duration_y'],\n",
       "      dtype='object')"
      ]
     },
     "execution_count": 79,
     "metadata": {},
     "output_type": "execute_result"
    }
   ],
   "source": [
    "# video_params = [\n",
    "#     cv2.CAP_PROP_FPS,\n",
    "#     cv2.CAP_PROP_FRAME_COUNT,\n",
    "#     cv2.CAP_PROP_FRAME_WIDTH,\n",
    "#     cv2.CAP_PROP_FRAME_HEIGHT,\n",
    "#     cv2.CAP_PROP_BITRATE,\n",
    "# ]\n",
    "# df_train['params'] = df_train['video_1'].apply(lambda x: get_vidcap_param(x, video_params))\n",
    "# df_test['params'] = df_test['video_1'].apply(lambda x: get_vidcap_param(x, video_params))\n",
    "# description['params'] = description['video_1'].apply(lambda x: get_vidcap_param(x, video_params))\n",
    "df_train.columns"
   ]
  },
  {
   "cell_type": "code",
   "execution_count": 83,
   "id": "3643037e-756f-4e07-a0ed-8e29d4c16a5b",
   "metadata": {},
   "outputs": [
    {
     "data": {
      "text/plain": [
       "['fps_x',\n",
       " 'fps_y',\n",
       " 'n_frames_x',\n",
       " 'n_frames_y',\n",
       " 'w_x',\n",
       " 'w_y',\n",
       " 'h_x',\n",
       " 'h_y',\n",
       " 'bitrate_x',\n",
       " 'bitrate_y',\n",
       " 'duration_x',\n",
       " 'duration_y',\n",
       " 'video_similarity']"
      ]
     },
     "execution_count": 83,
     "metadata": {},
     "output_type": "execute_result"
    }
   ],
   "source": [
    "video_features = ['fps', 'n_frames', 'w', 'h', 'bitrate', 'duration']\n",
    "features = ';'.join([f'{feature}_x;{feature}_y' for feature in video_features]).split(';') + ['video_similarity']\n",
    "features"
   ]
  },
  {
   "cell_type": "code",
   "execution_count": 84,
   "id": "59059202-aa79-43e9-9583-e8c7290904db",
   "metadata": {},
   "outputs": [
    {
     "data": {
      "text/plain": [
       "Index(['key_0', 'created_x', 'uuid_x', 'link_x', 'is_duplicate_x',\n",
       "       'duplicate_for_x', 'is_hard_x', 'video_1_x', 'duplicate_id_x',\n",
       "       'params_x', 'idx_x', 'fps_x', 'n_frames_x', 'w_x', 'h_x', 'bitrate_x',\n",
       "       'video_similarity_x', 'similar_video_x', 'r_x', 'duration_x',\n",
       "       'created_y', 'uuid_y', 'link_y', 'is_duplicate_y', 'duplicate_for_y',\n",
       "       'is_hard_y', 'video_1_y', 'duplicate_id_y', 'params_y', 'idx_y',\n",
       "       'fps_y', 'n_frames_y', 'w_y', 'h_y', 'bitrate_y', 'video_similarity_y',\n",
       "       'similar_video_y', 'r_y', 'duration_y'],\n",
       "      dtype='object')"
      ]
     },
     "execution_count": 84,
     "metadata": {},
     "output_type": "execute_result"
    }
   ],
   "source": [
    "df_train.columns"
   ]
  },
  {
   "cell_type": "code",
   "execution_count": 110,
   "id": "860a2815-c229-4790-8a91-d723a0341e42",
   "metadata": {},
   "outputs": [],
   "source": [
    "features = [\n",
    "    'fps_x', 'n_frames_x', 'w_x', 'h_x', 'bitrate_x', 'video_similarity_x', 'duration_x', 'r_x', #'similar_video_x',\n",
    "    'fps_y', 'n_frames_y', 'w_y', 'h_y', 'bitrate_y', #'video_similarity_y', 'duration_y', 'r_y', 'similar_video_y',\n",
    "]"
   ]
  },
  {
   "cell_type": "code",
   "execution_count": 111,
   "id": "172f8ae3-b318-444f-b8a1-14c4be00cfe6",
   "metadata": {},
   "outputs": [],
   "source": [
    "X_train = df_train[features].fillna(0).values\n",
    "y_train = df_train['is_duplicate_x']\n",
    "X_test = df_test[features].fillna(0).values\n",
    "y_test = df_test['is_duplicate_x']"
   ]
  },
  {
   "cell_type": "code",
   "execution_count": 112,
   "id": "b911ed0c-9b7d-4492-9a05-9b5d53c52ceb",
   "metadata": {},
   "outputs": [
    {
     "data": {
      "text/plain": [
       "0.028169014084507043"
      ]
     },
     "execution_count": 112,
     "metadata": {},
     "output_type": "execute_result"
    }
   ],
   "source": [
    "model = LogisticRegression(class_weight={0: 1, 1: 20})\n",
    "model.fit(X_train, y_train)\n",
    "y_pred = model.predict(X_test)\n",
    "f1_score(y_test, y_pred)"
   ]
  },
  {
   "cell_type": "code",
   "execution_count": 113,
   "id": "cb054d2a-f9ba-4ba4-aaa5-471580306c38",
   "metadata": {},
   "outputs": [
    {
     "data": {
      "text/plain": [
       "Index(['key_0', 'created_x', 'uuid_x', 'link_x', 'is_duplicate_x',\n",
       "       'duplicate_for_x', 'is_hard_x', 'video_1_x', 'duplicate_id_x',\n",
       "       'params_x', 'idx_x', 'fps_x', 'n_frames_x', 'w_x', 'h_x', 'bitrate_x',\n",
       "       'video_similarity_x', 'similar_video_x', 'r_x', 'duration_x',\n",
       "       'created_y', 'uuid_y', 'link_y', 'is_duplicate_y', 'duplicate_for_y',\n",
       "       'is_hard_y', 'video_1_y', 'duplicate_id_y', 'params_y', 'idx_y',\n",
       "       'fps_y', 'n_frames_y', 'w_y', 'h_y', 'bitrate_y', 'video_similarity_y',\n",
       "       'similar_video_y', 'r_y', 'duration_y'],\n",
       "      dtype='object')"
      ]
     },
     "execution_count": 113,
     "metadata": {},
     "output_type": "execute_result"
    }
   ],
   "source": [
    "df_train.columns"
   ]
  },
  {
   "cell_type": "code",
   "execution_count": 123,
   "id": "c331a856-a185-4fc4-8083-e5ccb7e12259",
   "metadata": {},
   "outputs": [
    {
     "data": {
      "text/plain": [
       "0.08"
      ]
     },
     "execution_count": 123,
     "metadata": {},
     "output_type": "execute_result"
    }
   ],
   "source": [
    "model = CatBoostClassifier(\n",
    "    iterations=1500,\n",
    "    learning_rate=0.01,\n",
    "    auto_class_weights='Balanced',\n",
    "    depth=6,\n",
    "    random_state=42,\n",
    "    verbose=False,\n",
    ")\n",
    "model.fit(X_train, y_train)\n",
    "y_pred = model.predict(X_test)\n",
    "f1_score(y_test, y_pred)"
   ]
  },
  {
   "cell_type": "code",
   "execution_count": 124,
   "id": "d94c6f47-6633-4bd0-8099-657aff44c9d5",
   "metadata": {},
   "outputs": [
    {
     "name": "stdout",
     "output_type": "stream",
     "text": [
      "              precision    recall  f1-score   support\n",
      "\n",
      "       False       0.98      0.98      0.98       487\n",
      "        True       0.08      0.08      0.08        13\n",
      "\n",
      "    accuracy                           0.95       500\n",
      "   macro avg       0.53      0.53      0.53       500\n",
      "weighted avg       0.95      0.95      0.95       500\n",
      "\n"
     ]
    }
   ],
   "source": [
    "print(classification_report(y_test, y_pred))"
   ]
  },
  {
   "cell_type": "code",
   "execution_count": 125,
   "id": "4fbdd754-6d62-44ce-a505-1b326dfa848a",
   "metadata": {},
   "outputs": [],
   "source": [
    "model = resnet50(weights=ResNet50_Weights.IMAGENET1K_V1)\n",
    "# model = torch.hub.load('ultralytics/yolov5', 'yolov5s', pretrained=True)\n",
    "\n",
    "def video_preprocess(video_fp):\n",
    "    vidcap = cv2.VideoCapture(video_fp)\n",
    "    fps = int(vidcap.get(cv2.CAP_PROP_FPS))\n",
    "    n_frames = int(vidcap.get(cv2.CAP_PROP_FRAME_COUNT))\n",
    "\n",
    "    frames = np.stack([vidcap.read()[1] for i in range(n_frames) if (i % fps) == 0])\n",
    "    vidcap.release()\n",
    "    \n",
    "    dataset = FEDataset(frames, transform=transform)\n",
    "    dataloader = DataLoader(dataset=dataset, batch_size=8)\n",
    "    output = torch.vstack([model(batch) for batch in dataloader]).detach().numpy()\n",
    "    \n",
    "    return output"
   ]
  },
  {
   "cell_type": "code",
   "execution_count": null,
   "id": "e19b4d2a-245f-44cd-b52e-4490a6b7a84f",
   "metadata": {},
   "outputs": [],
   "source": []
  },
  {
   "cell_type": "code",
   "execution_count": 126,
   "id": "486eb442-5ec7-4361-bd1f-9bec35099824",
   "metadata": {},
   "outputs": [
    {
     "name": "stdout",
     "output_type": "stream",
     "text": [
      "CPU times: user 1.19 s, sys: 424 ms, total: 1.61 s\n",
      "Wall time: 252 ms\n"
     ]
    },
    {
     "data": {
      "text/plain": [
       "(8, 1000)"
      ]
     },
     "execution_count": 126,
     "metadata": {},
     "output_type": "execute_result"
    }
   ],
   "source": [
    "%%time\n",
    "video_preprocess(description.loc[0, 'video_1']).shape"
   ]
  },
  {
   "cell_type": "code",
   "execution_count": 127,
   "id": "e8c29e32-e7ae-4d40-bee8-c0317de88691",
   "metadata": {},
   "outputs": [
    {
     "data": {
      "text/plain": [
       "2000"
      ]
     },
     "execution_count": 127,
     "metadata": {},
     "output_type": "execute_result"
    }
   ],
   "source": [
    "given_videos = glob.glob(r'/Users/wallander/Downloads/train_data_yappy/train_dataset/*.mp4')\n",
    "len(given_videos)"
   ]
  },
  {
   "cell_type": "code",
   "execution_count": 128,
   "id": "22696a98-c73e-43ad-bee2-551311be2b84",
   "metadata": {},
   "outputs": [
    {
     "data": {
      "application/vnd.jupyter.widget-view+json": {
       "model_id": "d137b0eb83a5419285c72fdeba6407e0",
       "version_major": 2,
       "version_minor": 0
      },
      "text/plain": [
       "  0%|          | 0/2000 [00:00<?, ?it/s]"
      ]
     },
     "metadata": {},
     "output_type": "display_data"
    },
    {
     "ename": "NameError",
     "evalue": "name 'sys' is not defined",
     "output_type": "error",
     "traceback": [
      "\u001b[0;31m---------------------------------------------------------------------------\u001b[0m",
      "\u001b[0;31mNameError\u001b[0m                                 Traceback (most recent call last)",
      "Cell \u001b[0;32mIn[128], line 6\u001b[0m\n\u001b[1;32m      3\u001b[0m \u001b[38;5;28;01mfor\u001b[39;00m video \u001b[38;5;129;01min\u001b[39;00m tqdm(given_videos):\n\u001b[1;32m      4\u001b[0m     data[video] \u001b[38;5;241m=\u001b[39m video_preprocess(video)\n\u001b[0;32m----> 6\u001b[0m \u001b[38;5;28mprint\u001b[39m(\u001b[43msys\u001b[49m\u001b[38;5;241m.\u001b[39mgetsizeof(data))\n",
      "\u001b[0;31mNameError\u001b[0m: name 'sys' is not defined"
     ]
    }
   ],
   "source": [
    "data = {}\n",
    "\n",
    "for video in tqdm(given_videos):\n",
    "    data[video] = video_preprocess(video)\n",
    "\n",
    "print(sys.getsizeof(data))"
   ]
  },
  {
   "cell_type": "code",
   "execution_count": null,
   "id": "1640efda-c64f-4844-a77a-f600daf5e9fc",
   "metadata": {},
   "outputs": [],
   "source": [
    "np.savez('vectors.npz', "
   ]
  },
  {
   "cell_type": "code",
   "execution_count": 221,
   "id": "f2757cee-938d-4fc4-849a-5b045b9bea4a",
   "metadata": {},
   "outputs": [],
   "source": []
  },
  {
   "cell_type": "code",
   "execution_count": 147,
   "id": "bbf26cc6-12b8-496f-bad3-162610c6a0cf",
   "metadata": {},
   "outputs": [],
   "source": [
    "vectors = list(data.values())\n",
    "keys = data.keys()\n",
    "    \n",
    "np.savez('vectors.npz', *vectors)\n",
    "\n",
    "with open('keys.json', 'w') as file:\n",
    "    d = {key: f'arr_{i}' for i, key in enumerate(keys)}\n",
    "    json.dump(d, file)"
   ]
  },
  {
   "cell_type": "code",
   "execution_count": null,
   "id": "826e2637-72f6-4ab1-81f4-f1966732f818",
   "metadata": {},
   "outputs": [],
   "source": []
  }
 ],
 "metadata": {
  "kernelspec": {
   "display_name": "Python 3 (ipykernel)",
   "language": "python",
   "name": "python3"
  },
  "language_info": {
   "codemirror_mode": {
    "name": "ipython",
    "version": 3
   },
   "file_extension": ".py",
   "mimetype": "text/x-python",
   "name": "python",
   "nbconvert_exporter": "python",
   "pygments_lexer": "ipython3",
   "version": "3.12.6"
  }
 },
 "nbformat": 4,
 "nbformat_minor": 5
}
